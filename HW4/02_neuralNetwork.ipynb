{
 "cells": [
  {
   "cell_type": "markdown",
   "metadata": {},
   "source": [
    "# Part 2: Neural Network"
   ]
  },
  {
   "cell_type": "code",
   "execution_count": 1,
   "metadata": {},
   "outputs": [],
   "source": [
    "import neuralNetwork as nn\n",
    "import numpy as np\n",
    "import matplotlib.pyplot as plt\n",
    "%matplotlib inline"
   ]
  },
  {
   "cell_type": "markdown",
   "metadata": {},
   "source": [
    "## 1) Designing the Network"
   ]
  },
  {
   "cell_type": "code",
   "execution_count": 2,
   "metadata": {},
   "outputs": [],
   "source": [
    "net = nn.NeuralNetwork()"
   ]
  },
  {
   "cell_type": "markdown",
   "metadata": {},
   "source": [
    "## 2) Training the Network"
   ]
  },
  {
   "cell_type": "code",
   "execution_count": 3,
   "metadata": {},
   "outputs": [],
   "source": [
    "x = np.array([[0,0,1], [0,1,1], [1,0,1], [1,1,1]])\n",
    "y = np.array([[0],[1],[1],[0]])\n",
    "\n",
    "net = net.fit(x, y)"
   ]
  },
  {
   "cell_type": "code",
   "execution_count": 4,
   "metadata": {},
   "outputs": [
    {
     "data": {
      "text/plain": [
       "Text(0, 0.5, 'error')"
      ]
     },
     "execution_count": 4,
     "metadata": {},
     "output_type": "execute_result"
    },
    {
     "data": {
      "image/png": "[encoded data removed]",
      "text/plain": [
       "<Figure size 432x288 with 1 Axes>"
      ]
     },
     "metadata": {
      "needs_background": "light"
     },
     "output_type": "display_data"
    }
   ],
   "source": [
    "plt.plot(np.arange(0,net.epochs), net.errors)\n",
    "plt.xlabel(\"epoch\")\n",
    "plt.ylabel(\"error\")"
   ]
  },
  {
   "cell_type": "markdown",
   "metadata": {},
   "source": [
    "## 3) Test the model:"
   ]
  },
  {
   "cell_type": "code",
   "execution_count": 5,
   "metadata": {},
   "outputs": [
    {
     "name": "stdout",
     "output_type": "stream",
     "text": [
      "actual values:\n",
      " [[0]\n",
      " [1]\n",
      " [1]\n",
      " [0]]\n",
      "predicted values:\n",
      " [[0.01510735]\n",
      " [0.97883643]\n",
      " [0.98528735]\n",
      " [0.01918654]]\n"
     ]
    }
   ],
   "source": [
    "y_pred = net.predict(x)\n",
    "print(\"actual values:\\n\", y)\n",
    "print(\"predicted values:\\n\", y_pred)"
   ]
  },
  {
   "cell_type": "markdown",
   "metadata": {},
   "source": [
    "```They are close but not identical```"
   ]
  },
  {
   "cell_type": "markdown",
   "metadata": {},
   "source": [
    "## 4) Other optimizations"
   ]
  },
  {
   "cell_type": "code",
   "execution_count": 6,
   "metadata": {},
   "outputs": [
    {
     "name": "stderr",
     "output_type": "stream",
     "text": [
      "Using TensorFlow backend.\n"
     ]
    }
   ],
   "source": [
    "import keras_nn"
   ]
  },
  {
   "cell_type": "code",
   "execution_count": 7,
   "metadata": {},
   "outputs": [
    {
     "name": "stdout",
     "output_type": "stream",
     "text": [
      "lr: 10 -> accuracy: 1.0, loss: 2.273047539347317e-05\n",
      "lr: 2 -> accuracy: 1.0, loss: 0.00017384556122124195\n",
      "lr: 1 -> accuracy: 1.0, loss: 0.0005242651095613837\n",
      "lr: 0.1 -> accuracy: 0.75, loss: 0.24853023886680603\n",
      "lr: 0.01 -> accuracy: 0.5, loss: 0.24996253848075867\n",
      "lr: 0.001 -> accuracy: 0.75, loss: 0.250520259141922\n"
     ]
    }
   ],
   "source": [
    "for lr in [10, 2, 1, 0.1, 0.01, 0.001]:\n",
    "    kn = keras_nn.KerasNet(lr=lr)\n",
    "    kn = kn.run(x, y)\n",
    "    print(\"lr: {} -> accuracy: {}, loss: {}\".format(lr, kn.acc, kn.loss))"
   ]
  },
  {
   "cell_type": "code",
   "execution_count": 8,
   "metadata": {},
   "outputs": [
    {
     "name": "stdout",
     "output_type": "stream",
     "text": [
      "activation: relu -> accuracy: 0.5, loss: 0.5\n",
      "activation: elu -> accuracy: 1.0, loss: 2.1108978671691148e-06\n",
      "activation: tanh -> accuracy: 1.0, loss: 0.0007046769605949521\n",
      "activation: sigmoid -> accuracy: 0.5, loss: 0.24961359798908234\n"
     ]
    }
   ],
   "source": [
    "for act in ['relu', 'elu', 'tanh', 'sigmoid']:\n",
    "    kn = keras_nn.KerasNet(lr=0.1, activation=act)\n",
    "    kn = kn.run(x, y)\n",
    "    print(\"activation: {} -> accuracy: {}, loss: {}\".format(\n",
    "        act, kn.acc, kn.loss))"
   ]
  }
 ],
 "metadata": {
  "kernelspec": {
   "display_name": "Python 3",
   "language": "python",
   "name": "python3"
  },
  "language_info": {
   "codemirror_mode": {
    "name": "ipython",
    "version": 3
   },
   "file_extension": ".py",
   "mimetype": "text/x-python",
   "name": "python",
   "nbconvert_exporter": "python",
   "pygments_lexer": "ipython3",
   "version": "3.6.8"
  }
 },
 "nbformat": 4,
 "nbformat_minor": 2
}
