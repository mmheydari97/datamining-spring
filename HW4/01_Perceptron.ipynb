{
 "cells": [
  {
   "cell_type": "markdown",
   "metadata": {},
   "source": [
    "# Part 1: Perceptron"
   ]
  },
  {
   "cell_type": "markdown",
   "metadata": {},
   "source": [
    "## 1) Data set"
   ]
  },
  {
   "cell_type": "code",
   "execution_count": 1,
   "metadata": {},
   "outputs": [],
   "source": [
    "from sklearn.datasets import load_breast_cancer\n",
    "from sklearn.model_selection import train_test_split\n",
    "from sklearn.preprocessing import MinMaxScaler\n",
    "from imblearn.over_sampling import SMOTE\n",
    "from sklearn.linear_model import LogisticRegression\n",
    "from sklearn.ensemble import RandomForestClassifier\n",
    "from sklearn.metrics import precision_recall_fscore_support"
   ]
  },
  {
   "cell_type": "code",
   "execution_count": 2,
   "metadata": {},
   "outputs": [],
   "source": [
    "data = load_breast_cancer()"
   ]
  },
  {
   "cell_type": "code",
   "execution_count": 3,
   "metadata": {
    "scrolled": true
   },
   "outputs": [
    {
     "name": "stdout",
     "output_type": "stream",
     "text": [
      "positive class: 357\n",
      "negative class: 212\n"
     ]
    }
   ],
   "source": [
    "print(\"positive class:\", sum(data.target == 1))\n",
    "print(\"negative class:\", sum(data.target == 0))"
   ]
  },
  {
   "cell_type": "markdown",
   "metadata": {},
   "source": [
    "```imbalanced classes```"
   ]
  },
  {
   "cell_type": "code",
   "execution_count": 4,
   "metadata": {},
   "outputs": [],
   "source": [
    "X_train, X_test, y_train, y_test = train_test_split(\n",
    "    data.data, data.target, test_size=0.25, random_state=22)"
   ]
  },
  {
   "cell_type": "code",
   "execution_count": 5,
   "metadata": {},
   "outputs": [],
   "source": [
    "sm = SMOTE(random_state=22, sampling_strategy='minority')\n",
    "X_tr_sm, y_tr_sm = sm.fit_sample(X_train, y_train)"
   ]
  },
  {
   "cell_type": "code",
   "execution_count": 6,
   "metadata": {},
   "outputs": [
    {
     "name": "stdout",
     "output_type": "stream",
     "text": [
      "performance of Logistic Regression without oversampling (array([0.97959184, 0.92553191]), array([0.87272727, 0.98863636]), array([0.92307692, 0.95604396]), array([55, 88]))\n",
      "performance of Logistic Regression with oversampling (array([0.98      , 0.93548387]), array([0.89090909, 0.98863636]), array([0.93333333, 0.96132597]), array([55, 88]))\n"
     ]
    }
   ],
   "source": [
    "lr = LogisticRegression(solver='liblinear').fit(X_train, y_train)\n",
    "lr_sm = LogisticRegression(solver='liblinear').fit(X_tr_sm, y_tr_sm)\n",
    "\n",
    "y_pred = lr.predict(X_test)\n",
    "y_pr_sm = lr_sm.predict(X_test)\n",
    "\n",
    "score = precision_recall_fscore_support(y_test, y_pred)\n",
    "score_sm = precision_recall_fscore_support(y_test, y_pr_sm)\n",
    "\n",
    "print(\"performance of Logistic Regression without oversampling\", score)\n",
    "print(\"performance of Logistic Regression with oversampling\", score_sm)"
   ]
  },
  {
   "cell_type": "code",
   "execution_count": 7,
   "metadata": {},
   "outputs": [
    {
     "name": "stdout",
     "output_type": "stream",
     "text": [
      "performance of Random Forest without oversampling (array([0.98      , 0.93548387]), array([0.89090909, 0.98863636]), array([0.93333333, 0.96132597]), array([55, 88]))\n",
      "performance of Random Forest with oversampling (array([0.98076923, 0.95604396]), array([0.92727273, 0.98863636]), array([0.95327103, 0.97206704]), array([55, 88]))\n"
     ]
    }
   ],
   "source": [
    "rf = RandomForestClassifier(n_estimators=100, n_jobs=None).fit(\n",
    "    X_train, y_train)\n",
    "rf_sm = RandomForestClassifier(n_estimators=100, n_jobs=None).fit(\n",
    "    X_tr_sm, y_tr_sm)\n",
    "\n",
    "y_pred = rf.predict(X_test)\n",
    "y_pr_sm = rf_sm.predict(X_test)\n",
    "\n",
    "score = precision_recall_fscore_support(y_test, y_pred)\n",
    "score_sm = precision_recall_fscore_support(y_test, y_pr_sm)\n",
    "\n",
    "print(\"performance of Random Forest without oversampling\", score)\n",
    "print(\"performance of Random Forest with oversampling\", score_sm)"
   ]
  },
  {
   "cell_type": "markdown",
   "metadata": {},
   "source": [
    "```conclusion: using SMOTE for oversampling will result in a minor improvement```"
   ]
  },
  {
   "cell_type": "code",
   "execution_count": 8,
   "metadata": {},
   "outputs": [],
   "source": [
    "data.data = MinMaxScaler().fit_transform(data.data)"
   ]
  },
  {
   "cell_type": "code",
   "execution_count": 9,
   "metadata": {},
   "outputs": [],
   "source": [
    "X_train, X_test, y_train, y_test = train_test_split(\n",
    "    data.data, data.target, test_size=0.25, random_state=22)"
   ]
  },
  {
   "cell_type": "code",
   "execution_count": 10,
   "metadata": {},
   "outputs": [],
   "source": [
    "sm = SMOTE(random_state=22, sampling_strategy='minority')\n",
    "X_train, y_train = sm.fit_sample(X_train, y_train)"
   ]
  },
  {
   "cell_type": "markdown",
   "metadata": {},
   "source": [
    "## Building Model"
   ]
  },
  {
   "cell_type": "code",
   "execution_count": null,
   "metadata": {},
   "outputs": [],
   "source": []
  }
 ],
 "metadata": {
  "kernelspec": {
   "display_name": "Python 3",
   "language": "python",
   "name": "python3"
  },
  "language_info": {
   "codemirror_mode": {
    "name": "ipython",
    "version": 3
   },
   "file_extension": ".py",
   "mimetype": "text/x-python",
   "name": "python",
   "nbconvert_exporter": "python",
   "pygments_lexer": "ipython3",
   "version": "3.6.8"
  }
 },
 "nbformat": 4,
 "nbformat_minor": 2
}
