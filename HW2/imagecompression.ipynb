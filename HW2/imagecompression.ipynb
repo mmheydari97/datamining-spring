{
 "cells": [
  {
   "cell_type": "code",
   "execution_count": null,
   "metadata": {},
   "outputs": [],
   "source": [
    "from sklearn.cluster import KMeans\n",
    "import numpy as np\n",
    "import os\n",
    "import pandas as pd\n",
    "import matplotlib.pyplot as plt\n",
    "import matplotlib as mpl\n",
    "\n",
    "%matplotlib inline"
   ]
  },
  {
   "cell_type": "code",
   "execution_count": null,
   "metadata": {},
   "outputs": [],
   "source": [
    "path = os.path.join(os.path.curdir, \"../Dataset/imageLarge.png\")\n",
    "img = mpl.image.imread(path)\n",
    "m, n, _ = img.shape\n",
    "X = np.array(img).reshape((m*n, -1))"
   ]
  },
  {
   "cell_type": "code",
   "execution_count": null,
   "metadata": {},
   "outputs": [],
   "source": [
    "def initialize_centers(X, K):\n",
    "    m, n = X.shape\n",
    "    # choosing K out of m data points and each points can\n",
    "    rand_i = np.random.choice(m, K, replace=False)\n",
    "    centroids = X[rand_i, :]\n",
    "    return centroids\n",
    "\n",
    "\n",
    "def find_closest_centers(X, centroids):\n",
    "    m = X.shape[0]\n",
    "    idx = np.zeros(m, dtype=int)\n",
    "\n",
    "    for i in range(m):\n",
    "        # Euclidean distances\n",
    "        errs = np.sum(np.square(centroids - X[i, :]), axis=1)\n",
    "        idx[i] = np.argmin(errs)\n",
    "\n",
    "    return idx\n",
    "\n",
    "def compute_means(X, idx, K):\n",
    "    n = X.shape[1]\n",
    "    centroids = np.zeros((K, n))\n",
    "    for k in range(K):\n",
    "        # data points in each cluster\n",
    "        x = X[idx == k]\n",
    "        centroids[k, :] = np.mean(x, axis=0)\n",
    "\n",
    "    return centroids\n",
    "\n",
    "def kmeans(X, K, epoch=15):\n",
    "    centers = initialize_centers(X, K)\n",
    "    idx = None\n",
    "    for j in range(epoch):\n",
    "        idx = find_closest_centers(X, centers)\n",
    "        centers = compute_means(X, idx, K)\n",
    "        \n",
    "    return centers, idx"
   ]
  },
  {
   "cell_type": "code",
   "execution_count": null,
   "metadata": {},
   "outputs": [],
   "source": [
    "centers16, idx16 = kmeans(X, 16, 10)\n",
    "image16 = np.array([centers16[i] for i in idx16]).reshape((m,n,-1))"
   ]
  },
  {
   "cell_type": "code",
   "execution_count": null,
   "metadata": {},
   "outputs": [],
   "source": [
    "plt.subplot(1, 2, 1)\n",
    "plt.imshow(img)\n",
    "plt.title(\"Original image\")\n",
    "\n",
    "plt.subplot(1, 2, 2)\n",
    "plt.imshow(image16)\n",
    "plt.title(\"16 colors image\")"
   ]
  },
  {
   "cell_type": "code",
   "execution_count": null,
   "metadata": {},
   "outputs": [],
   "source": [
    "centers256, idx256 = kmeans(X, 256, 5)\n",
    "image256 = np.array([centers256[i] for i in idx256]).reshape((m,n,-1))"
   ]
  },
  {
   "cell_type": "code",
   "execution_count": null,
   "metadata": {},
   "outputs": [],
   "source": [
    "plt.subplot(1, 2, 1)\n",
    "plt.imshow(img)\n",
    "plt.title(\"Original image\")\n",
    "\n",
    "plt.subplot(1, 2, 2)\n",
    "plt.imshow(image256)\n",
    "plt.title(\"256 colors image\")"
   ]
  }
 ],
 "metadata": {
  "kernelspec": {
   "display_name": "Python 3",
   "language": "python",
   "name": "python3"
  },
  "language_info": {
   "codemirror_mode": {
    "name": "ipython",
    "version": 3
   },
   "file_extension": ".py",
   "mimetype": "text/x-python",
   "name": "python",
   "nbconvert_exporter": "python",
   "pygments_lexer": "ipython3",
   "version": "3.7.3"
  },
  "stem_cell": {
   "cell_type": "raw",
   "metadata": {
    "pycharm": {
     "metadata": false
    }
   },
   "source": ""
  }
 },
 "nbformat": 4,
 "nbformat_minor": 1
}
