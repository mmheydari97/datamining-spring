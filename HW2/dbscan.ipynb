{
 "cells": [
  {
   "cell_type": "markdown",
   "metadata": {},
   "source": [
    "# 1) Intro"
   ]
  },
  {
   "cell_type": "code",
   "execution_count": null,
   "metadata": {},
   "outputs": [],
   "source": [
    "import numpy as np\n",
    "import matplotlib.pyplot as plt\n",
    "import matplotlib as mpl\n",
    "from matplotlib.animation import FuncAnimation\n",
    "import pandas as pd\n",
    "import os\n",
    "from sklearn.cluster import DBSCAN\n",
    "from sklearn.metrics import silhouette_score\n",
    "\n",
    "%matplotlib inline"
   ]
  },
  {
   "cell_type": "code",
   "execution_count": null,
   "metadata": {},
   "outputs": [],
   "source": [
    "path = os.path.join(os.path.curdir,\"../Dataset/Dataset2.csv\")\n",
    "data = pd.read_csv(path)\n",
    "X = np.array(data)"
   ]
  },
  {
   "cell_type": "code",
   "execution_count": null,
   "metadata": {},
   "outputs": [],
   "source": [
    "def plt_dbscan(X, labels):\n",
    "    \"\"\"\n",
    "    This function plots points of each cluster in different colors\n",
    "    :param X: input data as 2d array\n",
    "    :param labels: final cluster assigned to th points \n",
    "    :return: _\n",
    "    \"\"\"\n",
    "    K = set(labels)\n",
    "    plt.gcf().clf()\n",
    "    cmap = plt.cm.rainbow\n",
    "    \n",
    "    for k in K:\n",
    "        x = X[labels==k]\n",
    "        plt.scatter(x[:, 0], x[:, 1],\n",
    "                       cmap=cmap,\n",
    "                       marker='o',\n",
    "                       s=8**2,\n",
    "                       linewidths=1,)\n",
    "    plt.grid(False)            "
   ]
  },
  {
   "cell_type": "markdown",
   "metadata": {},
   "source": [
    "# 2) Clustring data with DBSCAN"
   ]
  },
  {
   "cell_type": "markdown",
   "metadata": {},
   "source": [
    "## One cluster without anomaly detection"
   ]
  },
  {
   "cell_type": "code",
   "execution_count": null,
   "metadata": {},
   "outputs": [],
   "source": [
    "clustering = DBSCAN(eps=6, min_samples=3).fit(X)\n",
    "labels = clustering.labels_\n",
    "plt_dbscan(X, labels)"
   ]
  },
  {
   "cell_type": "markdown",
   "metadata": {},
   "source": [
    "## One cluster with anomaly detection"
   ]
  },
  {
   "cell_type": "code",
   "execution_count": null,
   "metadata": {},
   "outputs": [],
   "source": [
    "clustering = DBSCAN(eps=2.8, min_samples=7).fit(X)\n",
    "labels = clustering.labels_\n",
    "plt_dbscan(X, labels)"
   ]
  },
  {
   "cell_type": "markdown",
   "metadata": {},
   "source": [
    "## Best possible way"
   ]
  },
  {
   "cell_type": "code",
   "execution_count": null,
   "metadata": {},
   "outputs": [],
   "source": [
    "clustering = DBSCAN(eps=2, min_samples=12).fit(X)\n",
    "labels = clustering.labels_\n",
    "plt_dbscan(X, labels)"
   ]
  },
  {
   "cell_type": "markdown",
   "metadata": {},
   "source": [
    "# 3) Evaluation"
   ]
  },
  {
   "cell_type": "markdown",
   "metadata": {},
   "source": [
    "## 1. Dataset1, k = 2"
   ]
  },
  {
   "cell_type": "code",
   "execution_count": null,
   "metadata": {},
   "outputs": [],
   "source": [
    "def initialize_centers(X, K):\n",
    "    m, n = X.shape\n",
    "    # choosing K out of m data points and each points can\n",
    "    rand_i = np.random.choice(m, K, replace=False)\n",
    "    centroids = X[rand_i, :]\n",
    "    return centroids\n",
    "\n",
    "\n",
    "def find_closest_centers(X, centroids):\n",
    "    m = X.shape[0]\n",
    "    idx = np.zeros(m, dtype=int)\n",
    "\n",
    "    for i in range(m):\n",
    "        # Euclidean distances\n",
    "        errs = np.sum(np.square(centroids - X[i, :]), axis=1)\n",
    "        idx[i] = np.argmin(errs)\n",
    "\n",
    "    return idx\n",
    "\n",
    "def compute_means(X, idx, K):\n",
    "    n = X.shape[1]\n",
    "    centroids = np.zeros((K, n))\n",
    "    for k in range(K):\n",
    "        # data points in each cluster\n",
    "        x = X[idx == k]\n",
    "        centroids[k, :] = np.mean(x, axis=0)\n",
    "\n",
    "    return centroids\n",
    "\n",
    "def kmeans(X, K, epoch=15):\n",
    "    centers = initialize_centers(X, K)\n",
    "    \n",
    "    idx = None\n",
    "    visual = None\n",
    "    for j in range(epoch):\n",
    "        idx = find_closest_centers(X, centers)\n",
    "        centers = compute_means(X, idx, K)\n",
    "        \n",
    "    return centers, idx"
   ]
  },
  {
   "cell_type": "code",
   "execution_count": null,
   "metadata": {},
   "outputs": [],
   "source": [
    "data = pd.read_csv(\"../Dataset/Dataset1.csv\")\n",
    "X = np.array(data)\n",
    "dbscan_clustering = DBSCAN(eps=0.45, min_samples=60).fit(X)\n",
    "dbscan_labels = dbscan_clustering.labels_\n",
    "plt_dbscan(X, dbscan_labels)\n",
    "X_clean = X[dbscan_labels != -1]\n",
    "labels_clean = dbscan_labels[dbscan_labels != -1]\n",
    "dbscan_score = silhouette_score(X_clean, labels_clean)\n",
    "print(\"dbscan_score: \", dbscan_score)"
   ]
  },
  {
   "cell_type": "code",
   "execution_count": null,
   "metadata": {},
   "outputs": [],
   "source": [
    "_, kmeans_labels = kmeans(X, 2, 15)\n",
    "plt_dbscan(X, kmeans_labels)\n",
    "kmeans_score = silhouette_score(X, kmeans_labels)\n",
    "print(\"kmeans_score: \", kmeans_score)"
   ]
  },
  {
   "cell_type": "markdown",
   "metadata": {},
   "source": [
    "## 2. Dataset1, k = 4"
   ]
  },
  {
   "cell_type": "code",
   "execution_count": null,
   "metadata": {},
   "outputs": [],
   "source": [
    "dbscan_clustering = DBSCAN(eps=0.18, min_samples=20).fit(X)\n",
    "dbscan_labels = dbscan_clustering.labels_\n",
    "plt_dbscan(X, dbscan_labels)\n",
    "X_clean = X[dbscan_labels != -1]\n",
    "labels_clean = dbscan_labels[dbscan_labels != -1]\n",
    "dbscan_score = silhouette_score(X_clean, labels_clean)\n",
    "print(\"dbscan_score: \", dbscan_score)"
   ]
  },
  {
   "cell_type": "code",
   "execution_count": null,
   "metadata": {},
   "outputs": [],
   "source": [
    "_, kmeans_labels = kmeans(X, 4, 15)\n",
    "plt_dbscan(X, kmeans_labels)\n",
    "kmeans_score = silhouette_score(X, kmeans_labels)\n",
    "print(\"kmeans_score: \", kmeans_score)"
   ]
  },
  {
   "cell_type": "markdown",
   "metadata": {},
   "source": [
    "## 3. Dataset2, k=3"
   ]
  },
  {
   "cell_type": "code",
   "execution_count": null,
   "metadata": {},
   "outputs": [],
   "source": [
    "path = os.path.join(os.path.curdir,\"../Dataset/Dataset2.csv\")\n",
    "data = pd.read_csv(path)\n",
    "X = np.array(data)"
   ]
  },
  {
   "cell_type": "code",
   "execution_count": null,
   "metadata": {},
   "outputs": [],
   "source": [
    "dbscan_clustering = DBSCAN(eps=2, min_samples=12).fit(X)\n",
    "dbscan_labels = dbscan_clustering.labels_\n",
    "plt_dbscan(X, dbscan_labels)\n",
    "X_clean = X[dbscan_labels != -1]\n",
    "labels_clean = dbscan_labels[dbscan_labels != -1]\n",
    "dbscan_score = silhouette_score(X_clean, labels_clean)\n",
    "print(\"dbscan_score: \", dbscan_score)"
   ]
  },
  {
   "cell_type": "code",
   "execution_count": null,
   "metadata": {},
   "outputs": [],
   "source": [
    "_, kmeans_labels = kmeans(X, 3, 15)\n",
    "plt_dbscan(X, kmeans_labels)\n",
    "kmeans_score = silhouette_score(X, kmeans_labels)\n",
    "print(\"kmeans_score: \", kmeans_score)"
   ]
  }
 ],
 "metadata": {
  "kernelspec": {
   "display_name": "Python 3",
   "language": "python",
   "name": "python3"
  },
  "language_info": {
   "codemirror_mode": {
    "name": "ipython",
    "version": 3
   },
   "file_extension": ".py",
   "mimetype": "text/x-python",
   "name": "python",
   "nbconvert_exporter": "python",
   "pygments_lexer": "ipython3",
   "version": "3.7.3"
  }
 },
 "nbformat": 4,
 "nbformat_minor": 2
}
