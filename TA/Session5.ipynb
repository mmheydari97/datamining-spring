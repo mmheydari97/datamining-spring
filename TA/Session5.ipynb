{
 "cells": [
  {
   "cell_type": "markdown",
   "metadata": {},
   "source": [
    "# Decision Trees"
   ]
  },
  {
   "cell_type": "markdown",
   "metadata": {},
   "source": [
    "## 1) Preparing Data:"
   ]
  },
  {
   "cell_type": "code",
   "execution_count": null,
   "metadata": {},
   "outputs": [],
   "source": [
    "import pandas as pd\n",
    "import numpy as np\n",
    "from sklearn.preprocessing import OrdinalEncoder"
   ]
  },
  {
   "cell_type": "code",
   "execution_count": null,
   "metadata": {},
   "outputs": [],
   "source": [
    "df2 = pd.read_csv(\"./Data/5/Dataset2.csv\")\n",
    "print(df2.columns)\n",
    "df2.head()"
   ]
  },
  {
   "cell_type": "markdown",
   "metadata": {},
   "source": [
    "### check for null values"
   ]
  },
  {
   "cell_type": "code",
   "execution_count": null,
   "metadata": {},
   "outputs": [],
   "source": [
    "print(df2.info())"
   ]
  },
  {
   "cell_type": "markdown",
   "metadata": {},
   "source": [
    "### drop unwanted attributes"
   ]
  },
  {
   "cell_type": "code",
   "execution_count": null,
   "metadata": {},
   "outputs": [],
   "source": [
    "for column in df2.columns:\n",
    "    print(column, \": \", set(df2[column].values))\n",
    "    \n",
    "df2 = df2.drop(['veil-type'], axis=1)"
   ]
  },
  {
   "cell_type": "markdown",
   "metadata": {},
   "source": [
    "### encode categorical attributes"
   ]
  },
  {
   "cell_type": "code",
   "execution_count": null,
   "metadata": {},
   "outputs": [],
   "source": [
    "def replace_poison(x):\n",
    "    poison = x['poisonous']\n",
    "    if poison == 'p':\n",
    "        return 1\n",
    "    else :\n",
    "        return 0\n",
    "\n",
    "df2['poisonous'] = df2.apply(replace_poison, axis=1)\n",
    "\n",
    "X = df2.drop(['poisonous'], axis=1)\n",
    "y = df2['poisonous']"
   ]
  },
  {
   "cell_type": "code",
   "execution_count": null,
   "metadata": {},
   "outputs": [],
   "source": [
    "ordinal_enc = OrdinalEncoder()\n",
    "ordinal_vals = ordinal_enc.fit_transform(X)\n",
    "ordinal_vals = ordinal_vals.astype('int8')\n",
    "\n",
    "X = pd.DataFrame(ordinal_vals, columns=X.columns)"
   ]
  },
  {
   "cell_type": "markdown",
   "metadata": {},
   "source": [
    "## 2) Classifying the Data"
   ]
  },
  {
   "cell_type": "code",
   "execution_count": null,
   "metadata": {},
   "outputs": [],
   "source": [
    "from sklearn.tree import DecisionTreeClassifier\n",
    "from sklearn.model_selection import train_test_split, GridSearchCV\n",
    "from sklearn.metrics import accuracy_score \n",
    "\n",
    "from sklearn.tree import export_graphviz\n",
    "from sklearn.datasets import load_wine\n",
    "from IPython.display import SVG\n",
    "# from graphviz import Source\n",
    "from IPython.display import display"
   ]
  },
  {
   "cell_type": "markdown",
   "metadata": {},
   "source": [
    "### split into test and train sets"
   ]
  },
  {
   "cell_type": "code",
   "execution_count": null,
   "metadata": {},
   "outputs": [],
   "source": [
    "X_train, X_test, y_train, y_test = train_test_split(X, y, test_size=0.2)\n"
   ]
  },
  {
   "cell_type": "markdown",
   "metadata": {},
   "source": [
    "### Decision Tree with gini"
   ]
  },
  {
   "cell_type": "code",
   "execution_count": null,
   "metadata": {},
   "outputs": [],
   "source": [
    "dtree_gini = DecisionTreeClassifier(criterion='gini')\n",
    "cls = dtree_gini.fit(X_train,y_train)\n",
    "y_pred = cls.predict(X_test)\n",
    "print(\"Accuracy:\", accuracy_score(y_test, y_pred))\n",
    "\n",
    "export_graphviz(dtree_gini, out_file=\"./Data/5/dtree_gini.dot\",\n",
    "                feature_names=X_train.columns,\n",
    "                filled = True)"
   ]
  },
  {
   "cell_type": "markdown",
   "metadata": {},
   "source": [
    "### Decision Tree with entropy"
   ]
  },
  {
   "cell_type": "code",
   "execution_count": null,
   "metadata": {},
   "outputs": [],
   "source": [
    "dtree_entropy = DecisionTreeClassifier(criterion='entropy')\n",
    "cls = dtree_entropy.fit(X_train,y_train)\n",
    "y_pred = cls.predict(X_test)\n",
    "print(\"Accuracy:\", accuracy_score(y_test, y_pred))\n",
    "\n",
    "export_graphviz(dtree_entropy, out_file=\"./Data/5/dtree_entropy.dot\",\n",
    "                feature_names=X_train.columns,\n",
    "                filled = True)"
   ]
  },
  {
   "cell_type": "markdown",
   "metadata": {},
   "source": [
    "### visualize"
   ]
  },
  {
   "cell_type": "code",
   "execution_count": null,
   "metadata": {},
   "outputs": [],
   "source": [
    "# In order to see each tree in jupyter notebook\n",
    "# uncomment following lines and execute them in \n",
    "# separate cells\n",
    "\n",
    "# graph = Source(export_graphviz(dtree_gini, out_file=None,\n",
    "#                                     feature_names=X_train.columns,\n",
    "#                                     filled = True))\n",
    "# display(SVG(graph.pipe(format='svg')))\n",
    "\n",
    "\n",
    "# graph = Source(export_graphviz(dtree_entropy, out_file=None,\n",
    "#                                     feature_names=X_train.columns,\n",
    "#                                     filled = True))\n",
    "# display(SVG(graph.pipe(format='svg')))\n",
    "\n",
    "# random forests have many estimators so we should travers them\n",
    "# or just visualize one of them\n",
    "\n",
    "# graph = Source(export_graphviz(rf_gini.estimators_[0], out_file=None,\n",
    "#                                     feature_names=X_train.columns,\n",
    "#                                     filled = True))\n",
    "# display(SVG(graph.pipe(format='svg')))\n",
    "\n",
    "\n",
    "# graph = Source(export_graphviz(rf_entropy.estimators_[0], out_file=None,\n",
    "#                                     feature_names=X_train.columns,\n",
    "#                                     filled = True))\n",
    "# display(SVG(graph.pipe(format='svg')))\n",
    "\n",
    "\n",
    "# ------------ you can also try this: ------------ #\n",
    "# from sklearn.externals.six import StringIO  \n",
    "# from IPython.display import Image  \n",
    "# from sklearn.tree import export_graphviz\n",
    "# import pydotplus\n",
    "# dot_data = StringIO()\n",
    "# export_graphviz(clf, out_file=dot_data,  \n",
    "#                 filled=True, rounded=True,\n",
    "#                 special_characters=True, feature_names = feature_cols,class_names=['0','1'])\n",
    "# graph = pydotplus.graph_from_dot_data(dot_data.getvalue())  \n",
    "# graph.write_png('diabetes.png')\n",
    "# ------------------------------------------------ #\n",
    "\n"
   ]
  },
  {
   "cell_type": "markdown",
   "metadata": {},
   "source": [
    "### Grid Search "
   ]
  },
  {
   "cell_type": "code",
   "execution_count": null,
   "metadata": {},
   "outputs": [],
   "source": [
    "param = {'min_samples_split': [2, 4, 6, 8],\n",
    "        'max_depth': [5, 10, 15, 25, None]}"
   ]
  },
  {
   "cell_type": "markdown",
   "metadata": {},
   "source": [
    "grid search on decision tree with gini"
   ]
  },
  {
   "cell_type": "code",
   "execution_count": null,
   "metadata": {},
   "outputs": [],
   "source": [
    "gs1 = GridSearchCV(dtree_gini, param, cv=5,\n",
    "                   n_jobs=-1, return_train_score=True)\n",
    "gs_fit1 = gs1.fit(X, y)\n",
    "pd.DataFrame(gs_fit1.cv_results_).sort_values('mean_test_score',\n",
    "                                             ascending=False)[0:5]"
   ]
  },
  {
   "cell_type": "markdown",
   "metadata": {},
   "source": [
    "grid search on decision tree with entropy"
   ]
  },
  {
   "cell_type": "code",
   "execution_count": null,
   "metadata": {},
   "outputs": [],
   "source": [
    "gs2 = GridSearchCV(dtree_entropy, param, cv=5,\n",
    "                   n_jobs=-1, return_train_score=True)\n",
    "gs_fit2 = gs2.fit(X, y)\n",
    "pd.DataFrame(gs_fit2.cv_results_).sort_values('mean_test_score',\n",
    "                                             ascending=False)[0:5]"
   ]
  },
  {
   "cell_type": "markdown",
   "metadata": {},
   "source": [
    "# Test on Unknown Data"
   ]
  },
  {
   "cell_type": "code",
   "execution_count": null,
   "metadata": {},
   "outputs": [],
   "source": [
    "df2_val = pd.read_csv(\"./Data/5/Dataset2_Unknown.csv\")\n",
    "res2 = pd.DataFrame()\n"
   ]
  },
  {
   "cell_type": "code",
   "execution_count": null,
   "metadata": {},
   "outputs": [],
   "source": [
    "df2_val = df2_val.drop(['veil-type'], axis=1)\n",
    "\n",
    "ordinal_vals = ordinal_enc.transform(df2_val)\n",
    "ordinal_vals = ordinal_vals.astype('int8')\n",
    "\n",
    "df2_val = pd.DataFrame(ordinal_vals, columns=df2_val.columns)\n",
    "df2_val.head()"
   ]
  },
  {
   "cell_type": "markdown",
   "metadata": {},
   "source": [
    "## predict with decision tree using gini"
   ]
  },
  {
   "cell_type": "code",
   "execution_count": null,
   "metadata": {},
   "outputs": [],
   "source": [
    "dtree_gini = DecisionTreeClassifier(criterion='gini',\n",
    "                                   max_depth=25,\n",
    "                                   min_samples_split=2)\n",
    "cls = dtree_gini.fit(X_train,y_train)\n",
    "y_pred = cls.predict(df2_val)\n",
    "\n",
    "res2[\"dtree_gini\"] = y_pred"
   ]
  },
  {
   "cell_type": "markdown",
   "metadata": {},
   "source": [
    "## predict with decision tree using entropy"
   ]
  },
  {
   "cell_type": "code",
   "execution_count": null,
   "metadata": {},
   "outputs": [],
   "source": [
    "dtree_entropy = DecisionTreeClassifier(criterion='entropy',\n",
    "                                   max_depth=25,\n",
    "                                   min_samples_split=4)\n",
    "cls = dtree_entropy.fit(X_train,y_train)\n",
    "y_pred = cls.predict(df2_val)\n",
    "\n",
    "res2[\"dtree_entropy\"] = y_pred"
   ]
  },
  {
   "cell_type": "code",
   "execution_count": null,
   "metadata": {},
   "outputs": [],
   "source": [
    "res2.to_csv(\"./Data/5/prediction.csv\")"
   ]
  }
 ],
 "metadata": {
  "kernelspec": {
   "display_name": "Python 3",
   "language": "python",
   "name": "python3"
  },
  "language_info": {
   "codemirror_mode": {
    "name": "ipython",
    "version": 3
   },
   "file_extension": ".py",
   "mimetype": "text/x-python",
   "name": "python",
   "nbconvert_exporter": "python",
   "pygments_lexer": "ipython3",
   "version": "3.7.3"
  }
 },
 "nbformat": 4,
 "nbformat_minor": 2
}
