{
 "cells": [
  {
   "cell_type": "markdown",
   "metadata": {},
   "source": [
    "# Session 2"
   ]
  },
  {
   "cell_type": "markdown",
   "metadata": {},
   "source": [
    "### Specify argument types in functions"
   ]
  },
  {
   "cell_type": "code",
   "execution_count": 1,
   "metadata": {},
   "outputs": [],
   "source": [
    "def my_func(a: int, b: float) -> float:\n",
    "    return a*b"
   ]
  },
  {
   "cell_type": "code",
   "execution_count": 2,
   "metadata": {},
   "outputs": [
    {
     "name": "stdout",
     "output_type": "stream",
     "text": [
      "Help on function my_func in module __main__:\n",
      "\n",
      "my_func(a: int, b: float) -> float\n",
      "\n"
     ]
    }
   ],
   "source": [
    "help(my_func)\n"
   ]
  },
  {
   "cell_type": "code",
   "execution_count": 8,
   "metadata": {},
   "outputs": [
    {
     "data": {
      "text/plain": [
       "'aaa'"
      ]
     },
     "execution_count": 8,
     "metadata": {},
     "output_type": "execute_result"
    }
   ],
   "source": [
    "my_func(3, \"a\")\n"
   ]
  },
  {
   "cell_type": "markdown",
   "metadata": {},
   "source": [
    "### Force args and kwargs"
   ]
  },
  {
   "cell_type": "code",
   "execution_count": 9,
   "metadata": {},
   "outputs": [],
   "source": [
    "def func(a, b, *, arg1=3):\n",
    "    return a"
   ]
  },
  {
   "cell_type": "code",
   "execution_count": 11,
   "metadata": {},
   "outputs": [
    {
     "data": {
      "text/plain": [
       "1"
      ]
     },
     "execution_count": 11,
     "metadata": {},
     "output_type": "execute_result"
    }
   ],
   "source": [
    "func(1, 2, 3)\n"
   ]
  },
  {
   "cell_type": "code",
   "execution_count": null,
   "metadata": {},
   "outputs": [],
   "source": [
    "func(5, 3, arg2=2)"
   ]
  },
  {
   "cell_type": "markdown",
   "metadata": {},
   "source": [
    "### All possible permutations"
   ]
  },
  {
   "cell_type": "code",
   "execution_count": 13,
   "metadata": {},
   "outputs": [
    {
     "name": "stdout",
     "output_type": "stream",
     "text": [
      "('A', 'T', 'C', 'G')\n",
      "('A', 'T', 'G', 'C')\n",
      "('A', 'C', 'T', 'G')\n",
      "('A', 'C', 'G', 'T')\n",
      "('A', 'G', 'T', 'C')\n",
      "('A', 'G', 'C', 'T')\n",
      "('T', 'A', 'C', 'G')\n",
      "('T', 'A', 'G', 'C')\n",
      "('T', 'C', 'A', 'G')\n",
      "('T', 'C', 'G', 'A')\n",
      "('T', 'G', 'A', 'C')\n",
      "('T', 'G', 'C', 'A')\n",
      "('C', 'A', 'T', 'G')\n",
      "('C', 'A', 'G', 'T')\n",
      "('C', 'T', 'A', 'G')\n",
      "('C', 'T', 'G', 'A')\n",
      "('C', 'G', 'A', 'T')\n",
      "('C', 'G', 'T', 'A')\n",
      "('G', 'A', 'T', 'C')\n",
      "('G', 'A', 'C', 'T')\n",
      "('G', 'T', 'A', 'C')\n",
      "('G', 'T', 'C', 'A')\n",
      "('G', 'C', 'A', 'T')\n",
      "('G', 'C', 'T', 'A')\n"
     ]
    }
   ],
   "source": [
    "import itertools\n",
    "\n",
    "per = itertools.permutations(\"ATCG\")\n",
    "for p in per:\n",
    "    print(p)"
   ]
  },
  {
   "cell_type": "markdown",
   "metadata": {},
   "source": [
    "### Character counter on string"
   ]
  },
  {
   "cell_type": "code",
   "execution_count": 14,
   "metadata": {},
   "outputs": [
    {
     "name": "stdout",
     "output_type": "stream",
     "text": [
      "[('o', 9), ('i', 6), ('c', 6), ('n', 4)]\n"
     ]
    }
   ],
   "source": [
    "import collections\n",
    "c = collections.Counter(\"pneumonoultramicroscopicsilicovolcanoconiosis\")\n",
    "most = c.most_common(4)\n",
    "print(most)\n"
   ]
  },
  {
   "cell_type": "markdown",
   "metadata": {},
   "source": [
    "## NumPy"
   ]
  },
  {
   "cell_type": "code",
   "execution_count": 15,
   "metadata": {},
   "outputs": [],
   "source": [
    "import numpy as np"
   ]
  },
  {
   "cell_type": "code",
   "execution_count": 23,
   "metadata": {},
   "outputs": [
    {
     "name": "stdout",
     "output_type": "stream",
     "text": [
      "(12,)\n"
     ]
    }
   ],
   "source": [
    "arr = np.array([3, 1, 2, 5, 4, 9, 7, 8, 6, 10, 11, 12])\n",
    "print(arr.shape)"
   ]
  },
  {
   "cell_type": "code",
   "execution_count": 24,
   "metadata": {},
   "outputs": [
    {
     "data": {
      "text/plain": [
       "array([[ 3,  1,  2,  5],\n",
       "       [ 4,  9,  7,  8],\n",
       "       [ 6, 10, 11, 12]])"
      ]
     },
     "execution_count": 24,
     "metadata": {},
     "output_type": "execute_result"
    }
   ],
   "source": [
    "arr.reshape([3, -1])"
   ]
  },
  {
   "cell_type": "code",
   "execution_count": 25,
   "metadata": {},
   "outputs": [
    {
     "data": {
      "text/plain": [
       "(12,)"
      ]
     },
     "execution_count": 25,
     "metadata": {},
     "output_type": "execute_result"
    }
   ],
   "source": [
    "arr.shape"
   ]
  },
  {
   "cell_type": "code",
   "execution_count": 26,
   "metadata": {},
   "outputs": [],
   "source": [
    "arr = arr.reshape(12, 1)"
   ]
  },
  {
   "cell_type": "code",
   "execution_count": 27,
   "metadata": {},
   "outputs": [
    {
     "data": {
      "text/plain": [
       "array([[  9],\n",
       "       [  1],\n",
       "       [  4],\n",
       "       [ 25],\n",
       "       [ 16],\n",
       "       [ 81],\n",
       "       [ 49],\n",
       "       [ 64],\n",
       "       [ 36],\n",
       "       [100],\n",
       "       [121],\n",
       "       [144]])"
      ]
     },
     "execution_count": 27,
     "metadata": {},
     "output_type": "execute_result"
    }
   ],
   "source": [
    "arr**2"
   ]
  },
  {
   "cell_type": "code",
   "execution_count": 28,
   "metadata": {},
   "outputs": [],
   "source": [
    "randoms = np.random.randint(5, 11, size=(1, 12))"
   ]
  },
  {
   "cell_type": "code",
   "execution_count": 29,
   "metadata": {},
   "outputs": [
    {
     "data": {
      "text/plain": [
       "array([[10,  9, 10,  5,  7,  6,  6,  9,  7, 10,  7,  8]])"
      ]
     },
     "execution_count": 29,
     "metadata": {},
     "output_type": "execute_result"
    }
   ],
   "source": [
    "randoms"
   ]
  },
  {
   "cell_type": "code",
   "execution_count": 30,
   "metadata": {},
   "outputs": [
    {
     "data": {
      "text/plain": [
       "array([[ 30],\n",
       "       [  9],\n",
       "       [ 20],\n",
       "       [ 25],\n",
       "       [ 28],\n",
       "       [ 54],\n",
       "       [ 42],\n",
       "       [ 72],\n",
       "       [ 42],\n",
       "       [100],\n",
       "       [ 77],\n",
       "       [ 96]])"
      ]
     },
     "execution_count": 30,
     "metadata": {},
     "output_type": "execute_result"
    }
   ],
   "source": [
    "arr*randoms.T"
   ]
  },
  {
   "cell_type": "code",
   "execution_count": 31,
   "metadata": {},
   "outputs": [
    {
     "data": {
      "text/plain": [
       "array([[ 30,  27,  30,  15,  21,  18,  18,  27,  21,  30,  21,  24],\n",
       "       [ 10,   9,  10,   5,   7,   6,   6,   9,   7,  10,   7,   8],\n",
       "       [ 20,  18,  20,  10,  14,  12,  12,  18,  14,  20,  14,  16],\n",
       "       [ 50,  45,  50,  25,  35,  30,  30,  45,  35,  50,  35,  40],\n",
       "       [ 40,  36,  40,  20,  28,  24,  24,  36,  28,  40,  28,  32],\n",
       "       [ 90,  81,  90,  45,  63,  54,  54,  81,  63,  90,  63,  72],\n",
       "       [ 70,  63,  70,  35,  49,  42,  42,  63,  49,  70,  49,  56],\n",
       "       [ 80,  72,  80,  40,  56,  48,  48,  72,  56,  80,  56,  64],\n",
       "       [ 60,  54,  60,  30,  42,  36,  36,  54,  42,  60,  42,  48],\n",
       "       [100,  90, 100,  50,  70,  60,  60,  90,  70, 100,  70,  80],\n",
       "       [110,  99, 110,  55,  77,  66,  66,  99,  77, 110,  77,  88],\n",
       "       [120, 108, 120,  60,  84,  72,  72, 108,  84, 120,  84,  96]])"
      ]
     },
     "execution_count": 31,
     "metadata": {},
     "output_type": "execute_result"
    }
   ],
   "source": [
    "np.matmul(arr, randoms)"
   ]
  },
  {
   "cell_type": "code",
   "execution_count": 32,
   "metadata": {},
   "outputs": [
    {
     "name": "stdout",
     "output_type": "stream",
     "text": [
      "[[ 3 10]\n",
      " [ 1  9]\n",
      " [ 2 10]\n",
      " [ 5  5]\n",
      " [ 4  7]\n",
      " [ 9  6]\n",
      " [ 7  6]\n",
      " [ 8  9]\n",
      " [ 6  7]\n",
      " [10 10]\n",
      " [11  7]\n",
      " [12  8]]\n"
     ]
    }
   ],
   "source": [
    "cn_v = np.concatenate((arr, randoms.T), axis=1)\n",
    "print(cn_v)"
   ]
  },
  {
   "cell_type": "code",
   "execution_count": 33,
   "metadata": {},
   "outputs": [
    {
     "name": "stdout",
     "output_type": "stream",
     "text": [
      "[[ 3]\n",
      " [ 1]\n",
      " [ 2]\n",
      " [ 5]\n",
      " [ 4]\n",
      " [ 9]\n",
      " [ 7]\n",
      " [ 8]\n",
      " [ 6]\n",
      " [10]\n",
      " [11]\n",
      " [12]\n",
      " [10]\n",
      " [ 9]\n",
      " [10]\n",
      " [ 5]\n",
      " [ 7]\n",
      " [ 6]\n",
      " [ 6]\n",
      " [ 9]\n",
      " [ 7]\n",
      " [10]\n",
      " [ 7]\n",
      " [ 8]]\n"
     ]
    }
   ],
   "source": [
    "cn_h = np.concatenate((arr, randoms.T), axis=0)\n",
    "print(cn_h)"
   ]
  },
  {
   "cell_type": "code",
   "execution_count": 34,
   "metadata": {},
   "outputs": [
    {
     "name": "stdout",
     "output_type": "stream",
     "text": [
      "[ 3  1  2  5  4  9  7  8  6 10 11 12 10  9 10  5  7  6  6  9  7 10  7  8]\n"
     ]
    }
   ],
   "source": [
    "cn_flat = np.squeeze(cn_h)\n",
    "print(cn_flat)"
   ]
  },
  {
   "cell_type": "code",
   "execution_count": 35,
   "metadata": {},
   "outputs": [
    {
     "name": "stdout",
     "output_type": "stream",
     "text": [
      "(12, 1, 2)\n"
     ]
    }
   ],
   "source": [
    "ds = np.dstack((arr, randoms.T))\n",
    "print(ds.shape)"
   ]
  },
  {
   "cell_type": "code",
   "execution_count": 36,
   "metadata": {},
   "outputs": [
    {
     "name": "stdout",
     "output_type": "stream",
     "text": [
      "(12, 2)\n"
     ]
    }
   ],
   "source": [
    "ds_sq = ds.squeeze()\n",
    "print(ds_sq.shape)"
   ]
  },
  {
   "cell_type": "code",
   "execution_count": 37,
   "metadata": {},
   "outputs": [
    {
     "name": "stdout",
     "output_type": "stream",
     "text": [
      "[[ True  True]\n",
      " [ True  True]\n",
      " [ True  True]\n",
      " [ True  True]\n",
      " [ True  True]\n",
      " [ True  True]\n",
      " [ True  True]\n",
      " [ True  True]\n",
      " [ True  True]\n",
      " [ True  True]\n",
      " [ True  True]\n",
      " [ True  True]]\n"
     ]
    }
   ],
   "source": [
    "print(ds_sq == cn_v)"
   ]
  },
  {
   "cell_type": "code",
   "execution_count": 38,
   "metadata": {},
   "outputs": [
    {
     "data": {
      "text/plain": [
       "[array([[ 3, 10],\n",
       "        [ 1,  9],\n",
       "        [ 2, 10],\n",
       "        [ 5,  5]]), array([[4, 7],\n",
       "        [9, 6],\n",
       "        [7, 6],\n",
       "        [8, 9]]), array([[ 6,  7],\n",
       "        [10, 10],\n",
       "        [11,  7],\n",
       "        [12,  8]])]"
      ]
     },
     "execution_count": 38,
     "metadata": {},
     "output_type": "execute_result"
    }
   ],
   "source": [
    "np.vsplit(ds_sq, 3)"
   ]
  },
  {
   "cell_type": "code",
   "execution_count": 39,
   "metadata": {},
   "outputs": [
    {
     "data": {
      "text/plain": [
       "[array([[ 3],\n",
       "        [ 1],\n",
       "        [ 2],\n",
       "        [ 5],\n",
       "        [ 4],\n",
       "        [ 9],\n",
       "        [ 7],\n",
       "        [ 8],\n",
       "        [ 6],\n",
       "        [10],\n",
       "        [11],\n",
       "        [12]]), array([[10],\n",
       "        [ 9],\n",
       "        [10],\n",
       "        [ 5],\n",
       "        [ 7],\n",
       "        [ 6],\n",
       "        [ 6],\n",
       "        [ 9],\n",
       "        [ 7],\n",
       "        [10],\n",
       "        [ 7],\n",
       "        [ 8]])]"
      ]
     },
     "execution_count": 39,
     "metadata": {},
     "output_type": "execute_result"
    }
   ],
   "source": [
    "np.hsplit(ds_sq, 2)"
   ]
  },
  {
   "cell_type": "code",
   "execution_count": 41,
   "metadata": {},
   "outputs": [
    {
     "name": "stdout",
     "output_type": "stream",
     "text": [
      "[[0.45468053 0.10722502 0.93781735 0.39960288]\n",
      " [0.84641019 0.30058643 0.02833393 0.01413435]\n",
      " [0.27829456 0.18310828 0.89228671 0.52373268]]\n"
     ]
    },
    {
     "data": {
      "text/plain": [
       "array([[0, 0, 0],\n",
       "       [0, 0, 0],\n",
       "       [0, 0, 0],\n",
       "       [0, 0, 0]])"
      ]
     },
     "execution_count": 41,
     "metadata": {},
     "output_type": "execute_result"
    }
   ],
   "source": [
    "rands = np.random.rand(3,4)\n",
    "print(rands)\n",
    "np.ones_like(rands, dtype=np.int_)\n",
    "np.zeros_like(rands.T, dtype=np.int_)"
   ]
  },
  {
   "cell_type": "code",
   "execution_count": 42,
   "metadata": {},
   "outputs": [
    {
     "data": {
      "text/plain": [
       "array([[0.60146075, 0.25508979, 1.83914891],\n",
       "       [0.57865791, 0.13211656, 3.22303162],\n",
       "       [0.73357169, 1.87620529, 1.22287844]])"
      ]
     },
     "execution_count": 42,
     "metadata": {},
     "output_type": "execute_result"
    }
   ],
   "source": [
    "np.random.exponential(size=(3, 3))"
   ]
  },
  {
   "cell_type": "markdown",
   "metadata": {},
   "source": [
    "## Matplotlib"
   ]
  },
  {
   "cell_type": "code",
   "execution_count": 43,
   "metadata": {},
   "outputs": [],
   "source": [
    "import matplotlib.pyplot as plt"
   ]
  },
  {
   "cell_type": "markdown",
   "metadata": {},
   "source": [
    "useful shortcut for jupyter notebook:"
   ]
  },
  {
   "cell_type": "code",
   "execution_count": 44,
   "metadata": {},
   "outputs": [],
   "source": [
    "%matplotlib inline"
   ]
  },
  {
   "cell_type": "code",
   "execution_count": 45,
   "metadata": {},
   "outputs": [],
   "source": [
    "x = np.linspace(0, 4*np.pi, 100)\n",
    "y = np.sin(x)\n",
    "y_prime = np.cos(x)"
   ]
  },
  {
   "cell_type": "code",
   "execution_count": 47,
   "metadata": {},
   "outputs": [
    {
     "data": {
      "text/plain": [
       "Text(0.5, 1.0, 'waves')"
      ]
     },
     "execution_count": 47,
     "metadata": {},
     "output_type": "execute_result"
    },
    {
     "data": {
      "image/png": "[encoded data removed]",
      "text/plain": [
       "<Figure size 432x288 with 1 Axes>"
      ]
     },
     "metadata": {
      "needs_background": "light"
     },
     "output_type": "display_data"
    }
   ],
   "source": [
    "plt.plot(x, y, 'bo')\n",
    "plt.plot(x, y_prime, 'r--')\n",
    "plt.title(\"waves\")\n",
    "# plt.show()"
   ]
  },
  {
   "cell_type": "code",
   "execution_count": 51,
   "metadata": {},
   "outputs": [
    {
     "data": {
      "text/plain": [
       "Text(0, 0.5, 'y')"
      ]
     },
     "execution_count": 51,
     "metadata": {},
     "output_type": "execute_result"
    },
    {
     "data": {
      "image/png": "[encoded data removed]",
      "text/plain": [
       "<Figure size 432x288 with 1 Axes>"
      ]
     },
     "metadata": {
      "needs_background": "light"
     },
     "output_type": "display_data"
    }
   ],
   "source": [
    "# Create data\n",
    "N = 100\n",
    "g1 = (0.6 + 0.6 * np.random.rand(N), np.random.rand(N))\n",
    "g2 = (0.4+0.3 * np.random.rand(N), 0.5*np.random.rand(N))\n",
    "g3 = (0.3*np.random.rand(N),0.3*np.random.rand(N))\n",
    "\n",
    "data = (g1, g2, g3)\n",
    "colors = (\"red\", \"green\", \"blue\")\n",
    "groups = (\"label1\", \"label2\", \"label3\")\n",
    "\n",
    "# Create plot\n",
    "fig = plt.figure()\n",
    "ax = fig.add_subplot(1, 1, 1)\n",
    "\n",
    "for data, color, group in zip(data, colors, groups):\n",
    "    x, y = data\n",
    "    ax.scatter(x, y, alpha=0.8, c=color, label=group)\n",
    "\n",
    "plt.title('Matplot scatter plot')\n",
    "plt.legend(loc=2) # 1-10\n",
    "plt.xlabel(\"x\")\n",
    "plt.ylabel(\"y\")\n",
    "\n"
   ]
  },
  {
   "cell_type": "code",
   "execution_count": 52,
   "metadata": {},
   "outputs": [
    {
     "name": "stdout",
     "output_type": "stream",
     "text": [
      "[(4, 29), (2, 28), (3, 27), (1, 16)]\n"
     ]
    }
   ],
   "source": [
    "nums = np.random.randint(1, 5, 100)\n",
    "x = collections.Counter(nums).most_common(4)\n",
    "\n",
    "print(x)"
   ]
  },
  {
   "cell_type": "code",
   "execution_count": 53,
   "metadata": {},
   "outputs": [],
   "source": [
    "b = [i for _, i in x]"
   ]
  },
  {
   "cell_type": "code",
   "execution_count": 55,
   "metadata": {},
   "outputs": [
    {
     "data": {
      "text/plain": [
       "([<matplotlib.patches.Wedge at 0x7f01f0550dd8>,\n",
       "  <matplotlib.patches.Wedge at 0x7f01f24fa390>,\n",
       "  <matplotlib.patches.Wedge at 0x7f01f05a70b8>,\n",
       "  <matplotlib.patches.Wedge at 0x7f01ef8715f8>],\n",
       " [Text(0.6741977818040066, 0.8691704959388332, ''),\n",
       "  Text(-0.9953097349102211, 0.4683572691791445, ''),\n",
       "  Text(-0.30689022851116493, -1.056323050796661, ''),\n",
       "  Text(0.9639373540021146, -0.5299290306818474, '')])"
      ]
     },
     "execution_count": 55,
     "metadata": {},
     "output_type": "execute_result"
    },
    {
     "data": {
      "image/png": "[encoded data removed]",
      "text/plain": [
       "<Figure size 432x288 with 1 Axes>"
      ]
     },
     "metadata": {},
     "output_type": "display_data"
    }
   ],
   "source": [
    "plt.pie(b)"
   ]
  },
  {
   "cell_type": "code",
   "execution_count": null,
   "metadata": {},
   "outputs": [],
   "source": []
  }
 ],
 "metadata": {
  "kernelspec": {
   "display_name": "Python 3",
   "language": "python",
   "name": "python3"
  },
  "language_info": {
   "codemirror_mode": {
    "name": "ipython",
    "version": 3
   },
   "file_extension": ".py",
   "mimetype": "text/x-python",
   "name": "python",
   "nbconvert_exporter": "python",
   "pygments_lexer": "ipython3",
   "version": "3.7.3"
  }
 },
 "nbformat": 4,
 "nbformat_minor": 2
}
