{
 "cells": [
  {
   "cell_type": "markdown",
   "metadata": {},
   "source": [
    "# Dataset 1"
   ]
  },
  {
   "cell_type": "markdown",
   "metadata": {},
   "source": [
    "## 1) Preparing Data:"
   ]
  },
  {
   "cell_type": "code",
   "execution_count": null,
   "metadata": {},
   "outputs": [],
   "source": [
    "import pandas as pd\n",
    "import numpy as np\n",
    "from sklearn.preprocessing import OrdinalEncoder"
   ]
  },
  {
   "cell_type": "code",
   "execution_count": null,
   "metadata": {},
   "outputs": [],
   "source": [
    "df1 = pd.read_csv(\"../Dataset/Dataset1.csv\")\n",
    "df1.head()"
   ]
  },
  {
   "cell_type": "markdown",
   "metadata": {},
   "source": [
    "### check for null values"
   ]
  },
  {
   "cell_type": "code",
   "execution_count": null,
   "metadata": {},
   "outputs": [],
   "source": [
    "print(df1.info())"
   ]
  },
  {
   "cell_type": "markdown",
   "metadata": {},
   "source": [
    "### generalize numerical attributes"
   ]
  },
  {
   "cell_type": "code",
   "execution_count": null,
   "metadata": {},
   "outputs": [],
   "source": [
    "print(\"Age values: \",set(df1[\"age\"].values))\n",
    "print(\"Hours-per-week values: \",set(df1[\"hours-per-week\"].values))\n",
    "df1[\"age\"] = df1[\"age\"].map(lambda x: x//10)\n",
    "df1[\"hours-per-week\"] = df1[\"hours-per-week\"].map(lambda x: x//10)\n",
    "df1[\"fnlwgt\"] = df1[\"fnlwgt\"].map(lambda x: x//100000)\n",
    "df1[\"capital-gain\"] = df1[\"capital-gain\"].map(lambda x: x//1000)\n",
    "df1[\"capital-loss\"] = df1[\"capital-loss\"].map(lambda x: x//1000)"
   ]
  },
  {
   "cell_type": "markdown",
   "metadata": {},
   "source": [
    "### encode categorical attributes"
   ]
  },
  {
   "cell_type": "code",
   "execution_count": null,
   "metadata": {},
   "outputs": [],
   "source": [
    "ordinal_enc = OrdinalEncoder()\n",
    "ordinal_vals = ordinal_enc.fit_transform(df1[[\"workclass\", \"marital-status\",\n",
    "                                             \"occupation\",\"relationship\", \"race\",\n",
    "                                             \"sex\", \"native-country\"]])\n",
    "\n",
    "df1[\"workclass\"] = ordinal_vals[:, 0].astype('int8')\n",
    "df1[\"marital-status\"] = ordinal_vals[:, 1].astype('int8')\n",
    "df1[\"occupation\"] = ordinal_vals[:, 2].astype('int8')\n",
    "df1[\"relationship\"] = ordinal_vals[:, 3].astype('int8')\n",
    "df1[\"race\"] = ordinal_vals[:, 4].astype('int8')\n",
    "df1[\"sex\"] = ordinal_vals[:, 5].astype('int8')\n",
    "df1[\"native-country\"] = ordinal_vals[:, 6].astype('int8')"
   ]
  },
  {
   "cell_type": "markdown",
   "metadata": {},
   "source": [
    "### drop unwanted attributes"
   ]
  },
  {
   "cell_type": "code",
   "execution_count": null,
   "metadata": {},
   "outputs": [],
   "source": [
    "df1 = df1.drop(['education'], axis=1)"
   ]
  },
  {
   "cell_type": "code",
   "execution_count": null,
   "metadata": {},
   "outputs": [],
   "source": [
    "print(set(df1[\"income\"].values))\n",
    "\n",
    "def replace_income(x):\n",
    "    income = x['income']\n",
    "    if income == '<=50K':\n",
    "        return 0\n",
    "    else :\n",
    "        return 1\n",
    "\n",
    "df1['income'] = df1.apply(replace_income, axis=1)"
   ]
  },
  {
   "cell_type": "markdown",
   "metadata": {},
   "source": [
    "### clean data"
   ]
  },
  {
   "cell_type": "code",
   "execution_count": null,
   "metadata": {},
   "outputs": [],
   "source": [
    "X = df1.drop(['income'], axis=1)\n",
    "y = df1['income']\n",
    "df1.head()\n"
   ]
  },
  {
   "cell_type": "markdown",
   "metadata": {},
   "source": [
    "## 2) Classifying the Data"
   ]
  },
  {
   "cell_type": "code",
   "execution_count": null,
   "metadata": {},
   "outputs": [],
   "source": [
    "from sklearn.tree import DecisionTreeClassifier\n",
    "from sklearn.model_selection import train_test_split, GridSearchCV\n",
    "from sklearn.metrics import accuracy_score \n",
    "from sklearn.ensemble import RandomForestClassifier\n",
    "\n",
    "\n",
    "from sklearn.tree import export_graphviz\n",
    "from sklearn.datasets import load_wine\n",
    "from IPython.display import SVG\n",
    "from graphviz import Source\n",
    "from IPython.display import display\n"
   ]
  },
  {
   "cell_type": "markdown",
   "metadata": {},
   "source": [
    "### split into test and train sets"
   ]
  },
  {
   "cell_type": "code",
   "execution_count": null,
   "metadata": {},
   "outputs": [],
   "source": [
    "X_train, X_test, y_train, y_test = train_test_split(X, y, test_size=0.2)\n"
   ]
  },
  {
   "cell_type": "markdown",
   "metadata": {},
   "source": [
    "### Decision Tree with gini"
   ]
  },
  {
   "cell_type": "code",
   "execution_count": null,
   "metadata": {},
   "outputs": [],
   "source": [
    "dtree_gini = DecisionTreeClassifier(criterion='gini')\n",
    "cls = dtree_gini.fit(X_train,y_train)\n",
    "y_pred = cls.predict(X_test)\n",
    "print(\"Accuracy:\", accuracy_score(y_test, y_pred))\n",
    "\n",
    "export_graphviz(dtree_gini, out_file=\"./01/dtree_gini.dot\",\n",
    "                feature_names=X_train.columns,\n",
    "                filled = True)"
   ]
  },
  {
   "cell_type": "markdown",
   "metadata": {},
   "source": [
    "### Decision Tree with entropy"
   ]
  },
  {
   "cell_type": "code",
   "execution_count": null,
   "metadata": {},
   "outputs": [],
   "source": [
    "dtree_entropy = DecisionTreeClassifier(criterion='entropy')\n",
    "cls = dtree_entropy.fit(X_train,y_train)\n",
    "y_pred = cls.predict(X_test)\n",
    "print(\"Accuracy:\", accuracy_score(y_test, y_pred))\n",
    "\n",
    "export_graphviz(dtree_entropy, out_file=\"./01/dtree_entropy.dot\",\n",
    "                feature_names=X_train.columns,\n",
    "                filled = True)\n"
   ]
  },
  {
   "cell_type": "markdown",
   "metadata": {},
   "source": [
    "### Random Forest with gini"
   ]
  },
  {
   "cell_type": "code",
   "execution_count": null,
   "metadata": {
    "scrolled": true
   },
   "outputs": [],
   "source": [
    "rf_gini = RandomForestClassifier(n_jobs=-1, n_estimators=50, criterion='gini')\n",
    "rf_model = rf_gini.fit(X_train, y_train)\n",
    "y_pred = rf_model.predict(X_test)\n",
    "print(\"Accuracy:\", accuracy_score(y_test, y_pred))\n",
    "\n",
    "export_graphviz(rf_gini.estimators_[0], out_file=\"./01/rf_gini.dot\",\n",
    "                feature_names=X_train.columns,\n",
    "                filled = True)"
   ]
  },
  {
   "cell_type": "markdown",
   "metadata": {},
   "source": [
    "### Random Forest with entropy"
   ]
  },
  {
   "cell_type": "code",
   "execution_count": null,
   "metadata": {},
   "outputs": [],
   "source": [
    "rf_entropy = RandomForestClassifier(n_jobs=-1, n_estimators=50, criterion='entropy')\n",
    "rf_model = rf_entropy.fit(X_train, y_train)\n",
    "y_pred = rf_model.predict(X_test)\n",
    "print(\"Accuracy:\", accuracy_score(y_test, y_pred))\n",
    "\n",
    "export_graphviz(rf_entropy.estimators_[0], out_file=\"./01/rf_entropy.dot\",\n",
    "                feature_names=X_train.columns,\n",
    "                filled = True)"
   ]
  },
  {
   "cell_type": "markdown",
   "metadata": {},
   "source": [
    "### visualize"
   ]
  },
  {
   "cell_type": "code",
   "execution_count": null,
   "metadata": {},
   "outputs": [],
   "source": [
    "# In order to see each tree in jupyter notebook\n",
    "# uncomment following lines and execute them in \n",
    "# separate cells\n",
    "\n",
    "# graph = Source(export_graphviz(dtree_gini, out_file=None,\n",
    "#                                     feature_names=X_train.columns,\n",
    "#                                     filled = True))\n",
    "# display(SVG(graph.pipe(format='svg')))\n",
    "\n",
    "\n",
    "# graph = Source(export_graphviz(dtree_entropy, out_file=None,\n",
    "#                                     feature_names=X_train.columns,\n",
    "#                                     filled = True))\n",
    "# display(SVG(graph.pipe(format='svg')))\n",
    "\n",
    "# random forests have many estimators so we should travers them\n",
    "# or just visualize one of them\n",
    "\n",
    "# graph = Source(export_graphviz(rf_gini.estimators_[0], out_file=None,\n",
    "#                                     feature_names=X_train.columns,\n",
    "#                                     filled = True))\n",
    "# display(SVG(graph.pipe(format='svg')))\n",
    "\n",
    "\n",
    "# graph = Source(export_graphviz(rf_entropy.estimators_[0], out_file=None,\n",
    "#                                     feature_names=X_train.columns,\n",
    "#                                     filled = True))\n",
    "# display(SVG(graph.pipe(format='svg')))\n"
   ]
  },
  {
   "cell_type": "markdown",
   "metadata": {},
   "source": [
    "### grid search"
   ]
  },
  {
   "cell_type": "code",
   "execution_count": null,
   "metadata": {},
   "outputs": [],
   "source": [
    "param = {'min_samples_split': [2, 10, 50],\n",
    "        'max_depth': [5, 10, 15, None]}"
   ]
  },
  {
   "cell_type": "markdown",
   "metadata": {},
   "source": [
    "grid search on decision tree with gini"
   ]
  },
  {
   "cell_type": "code",
   "execution_count": null,
   "metadata": {},
   "outputs": [],
   "source": [
    "gs1 = GridSearchCV(dtree_gini, param, cv=5,\n",
    "                   n_jobs=-1, return_train_score=True)\n",
    "gs_fit1 = gs1.fit(X, y)\n",
    "pd.DataFrame(gs_fit1.cv_results_).sort_values('mean_test_score',\n",
    "                                             ascending=False)[0:5]"
   ]
  },
  {
   "cell_type": "markdown",
   "metadata": {},
   "source": [
    "grid search on decision tree with entropy"
   ]
  },
  {
   "cell_type": "code",
   "execution_count": null,
   "metadata": {},
   "outputs": [],
   "source": [
    "gs2 = GridSearchCV(dtree_entropy, param, cv=5,\n",
    "                   n_jobs=-1, return_train_score=True)\n",
    "gs_fit2 = gs2.fit(X, y)\n",
    "pd.DataFrame(gs_fit2.cv_results_).sort_values('mean_test_score',\n",
    "                                             ascending=False)[0:5]"
   ]
  },
  {
   "cell_type": "markdown",
   "metadata": {},
   "source": [
    "grid search on random forest with gini"
   ]
  },
  {
   "cell_type": "code",
   "execution_count": null,
   "metadata": {},
   "outputs": [],
   "source": [
    "gs3 = GridSearchCV(rf_gini, param, cv=5,\n",
    "                   n_jobs=-1, return_train_score=True)\n",
    "gs_fit3 = gs3.fit(X, y)\n",
    "pd.DataFrame(gs_fit3.cv_results_).sort_values('mean_test_score',\n",
    "                                             ascending=False)[0:5]"
   ]
  },
  {
   "cell_type": "markdown",
   "metadata": {},
   "source": [
    "grid search on random forest with entropy"
   ]
  },
  {
   "cell_type": "code",
   "execution_count": null,
   "metadata": {},
   "outputs": [],
   "source": [
    "gs4 = GridSearchCV(rf_entropy, param, cv=5,\n",
    "                   n_jobs=-1, return_train_score=True)\n",
    "gs_fit4 = gs4.fit(X, y)\n",
    "pd.DataFrame(gs_fit4.cv_results_).sort_values('mean_test_score',\n",
    "                                             ascending=False)[0:5]"
   ]
  },
  {
   "cell_type": "markdown",
   "metadata": {},
   "source": [
    "# Test on Unknown Data"
   ]
  },
  {
   "cell_type": "code",
   "execution_count": null,
   "metadata": {},
   "outputs": [],
   "source": [
    "df1_val = pd.read_csv(\"../Dataset/Dataset1_Unknown.csv\")\n",
    "res1 = pd.DataFrame()\n"
   ]
  },
  {
   "cell_type": "code",
   "execution_count": null,
   "metadata": {},
   "outputs": [],
   "source": [
    "df1_val[\"age\"] = df1_val[\"age\"].map(lambda x: x//10)\n",
    "df1_val[\"hours-per-week\"] = df1_val[\"hours-per-week\"].map(lambda x: x//10)\n",
    "df1_val[\"fnlwgt\"] = df1_val[\"fnlwgt\"].map(lambda x: x//100000)\n",
    "df1_val[\"capital-gain\"] = df1_val[\"capital-gain\"].map(lambda x: x//1000)\n",
    "df1_val[\"capital-loss\"] = df1_val[\"capital-loss\"].map(lambda x: x//1000)\n",
    "\n",
    "ordinal_vals = ordinal_enc.transform(df1_val[[\"workclass\",\n",
    "                                                  \"marital-status\",\n",
    "                                                  \"occupation\",\n",
    "                                                  \"relationship\",\n",
    "                                                  \"race\", \"sex\",\n",
    "                                                  \"native-country\"]])\n",
    "\n",
    "df1_val[\"workclass\"] = ordinal_vals[:, 0].astype('int8')\n",
    "df1_val[\"marital-status\"] = ordinal_vals[:, 1].astype('int8')\n",
    "df1_val[\"occupation\"] = ordinal_vals[:, 2].astype('int8')\n",
    "df1_val[\"relationship\"] = ordinal_vals[:, 3].astype('int8')\n",
    "df1_val[\"race\"] = ordinal_vals[:, 4].astype('int8')\n",
    "df1_val[\"sex\"] = ordinal_vals[:, 5].astype('int8')\n",
    "df1_val[\"native-country\"] = ordinal_vals[:, 6].astype('int8')\n",
    "\n",
    "df1_val = df1_val.drop(['education'], axis=1)\n",
    "\n",
    "df1_val.head()"
   ]
  },
  {
   "cell_type": "markdown",
   "metadata": {},
   "source": [
    "## predict with decision tree using gini"
   ]
  },
  {
   "cell_type": "code",
   "execution_count": null,
   "metadata": {},
   "outputs": [],
   "source": [
    "dtree_gini = DecisionTreeClassifier(criterion='gini',\n",
    "                                   max_depth=10,\n",
    "                                   min_samples_split=50)\n",
    "cls = dtree_gini.fit(X_train,y_train)\n",
    "y_pred = cls.predict(df1_val)\n",
    "\n",
    "res1[\"dtree_gini\"] = y_pred"
   ]
  },
  {
   "cell_type": "markdown",
   "metadata": {},
   "source": [
    "## predict with decision tree using entropy"
   ]
  },
  {
   "cell_type": "code",
   "execution_count": null,
   "metadata": {},
   "outputs": [],
   "source": [
    "dtree_entropy = DecisionTreeClassifier(criterion='entropy',\n",
    "                                   max_depth=10,\n",
    "                                   min_samples_split=50)\n",
    "cls = dtree_entropy.fit(X_train,y_train)\n",
    "y_pred = cls.predict(df1_val)\n",
    "\n",
    "res1[\"dtree_entropy\"] = y_pred"
   ]
  },
  {
   "cell_type": "markdown",
   "metadata": {},
   "source": [
    "## predict with random forest using gini"
   ]
  },
  {
   "cell_type": "code",
   "execution_count": null,
   "metadata": {},
   "outputs": [],
   "source": [
    "rf_gini = RandomForestClassifier(criterion='gini',\n",
    "                                 n_estimators=50,\n",
    "                                 max_depth=15,\n",
    "                                 min_samples_split=10)\n",
    "cls = rf_gini.fit(X_train,y_train)\n",
    "y_pred = cls.predict(df1_val)\n",
    "\n",
    "res1[\"rf_gini\"] = y_pred"
   ]
  },
  {
   "cell_type": "markdown",
   "metadata": {},
   "source": [
    "## predict with random forest using entropy"
   ]
  },
  {
   "cell_type": "code",
   "execution_count": null,
   "metadata": {},
   "outputs": [],
   "source": [
    "rf_entropy = RandomForestClassifier(criterion='entropy',\n",
    "                                 n_estimators=50,\n",
    "                                 max_depth=15,\n",
    "                                 min_samples_split=2)\n",
    "cls = rf_entropy.fit(X_train,y_train)\n",
    "y_pred = cls.predict(df1_val)\n",
    "\n",
    "res1[\"rf_entropy\"] = y_pred"
   ]
  },
  {
   "cell_type": "code",
   "execution_count": null,
   "metadata": {},
   "outputs": [],
   "source": [
    "res1.to_csv(\"./01/prediction.csv\")"
   ]
  }
 ],
 "metadata": {
  "kernelspec": {
   "display_name": "Python 3",
   "language": "python",
   "name": "python3"
  },
  "language_info": {
   "codemirror_mode": {
    "name": "ipython",
    "version": 3
   },
   "file_extension": ".py",
   "mimetype": "text/x-python",
   "name": "python",
   "nbconvert_exporter": "python",
   "pygments_lexer": "ipython3",
   "version": "3.7.3"
  }
 },
 "nbformat": 4,
 "nbformat_minor": 2
}
