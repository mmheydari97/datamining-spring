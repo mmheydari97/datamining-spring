{
 "cells": [
  {
   "cell_type": "markdown",
   "metadata": {},
   "source": [
    "# Dataset 3"
   ]
  },
  {
   "cell_type": "markdown",
   "metadata": {},
   "source": [
    "## 1) Preparing Data:"
   ]
  },
  {
   "cell_type": "code",
   "execution_count": null,
   "metadata": {},
   "outputs": [],
   "source": [
    "import pandas as pd\n",
    "import numpy as np\n",
    "from sklearn.preprocessing import OrdinalEncoder"
   ]
  },
  {
   "cell_type": "code",
   "execution_count": null,
   "metadata": {},
   "outputs": [],
   "source": [
    "df3 = pd.read_csv(\"../Dataset/Dataset3.csv\")\n",
    "df3.head()"
   ]
  },
  {
   "cell_type": "markdown",
   "metadata": {},
   "source": [
    "### check for null values"
   ]
  },
  {
   "cell_type": "code",
   "execution_count": null,
   "metadata": {},
   "outputs": [],
   "source": [
    "print(df3.info())"
   ]
  },
  {
   "cell_type": "markdown",
   "metadata": {},
   "source": [
    "### generalize numerical attributes"
   ]
  },
  {
   "cell_type": "code",
   "execution_count": null,
   "metadata": {},
   "outputs": [],
   "source": [
    "print(\"age: \",set(df3[\"age\"].values))\n",
    "df3[\"age\"] = df3[\"age\"].map(lambda x: x//10)"
   ]
  },
  {
   "cell_type": "code",
   "execution_count": null,
   "metadata": {},
   "outputs": [],
   "source": [
    "print(\"trestbps: \",sorted(set(df3[\"trestbps\"].values)))\n",
    "df3['trestbps'] = (df3['trestbps']-min(df3['trestbps']))//np.std(df3['trestbps'])\n",
    "df3['trestbps'] = df3['trestbps'].astype('int8')"
   ]
  },
  {
   "cell_type": "code",
   "execution_count": null,
   "metadata": {},
   "outputs": [],
   "source": [
    "print(\"chol: \",sorted(set(df3[\"chol\"].values)))\n",
    "df3['chol'] = (df3['chol']-min(df3['chol']))//np.std(df3['chol'])\n",
    "df3['chol'] = df3['chol'].astype('int8')"
   ]
  },
  {
   "cell_type": "code",
   "execution_count": null,
   "metadata": {},
   "outputs": [],
   "source": [
    "print(\"thalach: \",sorted(set(df3[\"thalach\"].values)))\n",
    "df3['thalach'] = (df3['thalach']-min(df3['thalach']))//np.std(df3['thalach'])\n",
    "df3['thalach'] = df3['thalach'].astype('int8')"
   ]
  },
  {
   "cell_type": "code",
   "execution_count": null,
   "metadata": {},
   "outputs": [],
   "source": [
    "print(\"oldpeak: \",sorted(set(df3[\"oldpeak\"].values)))\n",
    "df3['oldpeak'] = df3['oldpeak']*10\n",
    "df3['oldpeak'] = (df3['oldpeak']-min(df3['oldpeak']))//np.std(df3['oldpeak'])\n",
    "df3['oldpeak'] = df3['oldpeak'].astype('int8')"
   ]
  },
  {
   "cell_type": "markdown",
   "metadata": {},
   "source": [
    "### clean data"
   ]
  },
  {
   "cell_type": "code",
   "execution_count": null,
   "metadata": {},
   "outputs": [],
   "source": [
    "X = df3.drop(['disease'], axis=1)\n",
    "y = df3['disease']\n",
    "df3.head()\n"
   ]
  },
  {
   "cell_type": "markdown",
   "metadata": {},
   "source": [
    "## 2) Classifying the Data"
   ]
  },
  {
   "cell_type": "code",
   "execution_count": null,
   "metadata": {},
   "outputs": [],
   "source": [
    "from sklearn.tree import DecisionTreeClassifier\n",
    "from sklearn.model_selection import train_test_split, GridSearchCV\n",
    "from sklearn.metrics import accuracy_score \n",
    "from sklearn.ensemble import RandomForestClassifier\n",
    "\n",
    "\n",
    "from sklearn.tree import export_graphviz\n",
    "from sklearn.datasets import load_wine\n",
    "from IPython.display import SVG\n",
    "from graphviz import Source\n",
    "from IPython.display import display"
   ]
  },
  {
   "cell_type": "markdown",
   "metadata": {},
   "source": [
    "### split into test and train sets"
   ]
  },
  {
   "cell_type": "code",
   "execution_count": null,
   "metadata": {},
   "outputs": [],
   "source": [
    "X_train, X_test, y_train, y_test = train_test_split(X, y, test_size=0.2)\n"
   ]
  },
  {
   "cell_type": "markdown",
   "metadata": {},
   "source": [
    "### Decision Tree with gini"
   ]
  },
  {
   "cell_type": "code",
   "execution_count": null,
   "metadata": {},
   "outputs": [],
   "source": [
    "dtree_gini = DecisionTreeClassifier(criterion='gini')\n",
    "cls = dtree_gini.fit(X_train,y_train)\n",
    "y_pred = cls.predict(X_test)\n",
    "print(\"Accuracy:\", accuracy_score(y_test, y_pred))\n",
    "\n",
    "export_graphviz(dtree_gini, out_file=\"./03/dtree_gini.dot\",\n",
    "                feature_names=X_train.columns,\n",
    "                filled = True)"
   ]
  },
  {
   "cell_type": "markdown",
   "metadata": {},
   "source": [
    "### Decision Tree with entropy"
   ]
  },
  {
   "cell_type": "code",
   "execution_count": null,
   "metadata": {},
   "outputs": [],
   "source": [
    "dtree_entropy = DecisionTreeClassifier(criterion='entropy')\n",
    "cls = dtree_entropy.fit(X_train,y_train)\n",
    "y_pred = cls.predict(X_test)\n",
    "print(\"Accuracy:\", accuracy_score(y_test, y_pred))\n",
    "\n",
    "export_graphviz(dtree_entropy, out_file=\"./03/dtree_entropy.dot\",\n",
    "                feature_names=X_train.columns,\n",
    "                filled = True)"
   ]
  },
  {
   "cell_type": "markdown",
   "metadata": {},
   "source": [
    "### Random Forest with gini"
   ]
  },
  {
   "cell_type": "code",
   "execution_count": null,
   "metadata": {},
   "outputs": [],
   "source": [
    "rf_gini = RandomForestClassifier(n_jobs=-1, n_estimators=50, criterion='gini')\n",
    "rf_model = rf_gini.fit(X_train, y_train)\n",
    "y_pred = rf_model.predict(X_test)\n",
    "print(\"Accuracy:\", accuracy_score(y_test, y_pred))\n",
    "\n",
    "export_graphviz(rf_gini.estimators_[0], out_file=\"./03/rf_gini.dot\",\n",
    "                feature_names=X_train.columns,\n",
    "                filled = True)"
   ]
  },
  {
   "cell_type": "markdown",
   "metadata": {},
   "source": [
    "### Random Forest with entropy"
   ]
  },
  {
   "cell_type": "code",
   "execution_count": null,
   "metadata": {},
   "outputs": [],
   "source": [
    "rf_entropy = RandomForestClassifier(n_jobs=-1, n_estimators=50, criterion='entropy')\n",
    "rf_model = rf_entropy.fit(X_train, y_train)\n",
    "y_pred = rf_model.predict(X_test)\n",
    "print(\"Accuracy:\", accuracy_score(y_test, y_pred))\n",
    "\n",
    "export_graphviz(rf_entropy.estimators_[0], out_file=\"./03/rf_entropy.dot\",\n",
    "                feature_names=X_train.columns,\n",
    "                filled = True)"
   ]
  },
  {
   "cell_type": "markdown",
   "metadata": {},
   "source": [
    "### visualize"
   ]
  },
  {
   "cell_type": "code",
   "execution_count": null,
   "metadata": {},
   "outputs": [],
   "source": [
    "# In order to see each tree in jupyter notebook\n",
    "# uncomment following lines and execute them in \n",
    "# separate cells\n",
    "\n",
    "# graph = Source(export_graphviz(dtree_gini, out_file=None,\n",
    "#                                     feature_names=X_train.columns,\n",
    "#                                     filled = True))\n",
    "# display(SVG(graph.pipe(format='svg')))\n",
    "\n",
    "\n",
    "# graph = Source(export_graphviz(dtree_entropy, out_file=None,\n",
    "#                                     feature_names=X_train.columns,\n",
    "#                                     filled = True))\n",
    "# display(SVG(graph.pipe(format='svg')))\n",
    "\n",
    "# random forests have many estimators so we should travers them\n",
    "# or just visualize one of them\n",
    "\n",
    "# graph = Source(export_graphviz(rf_gini.estimators_[0], out_file=None,\n",
    "#                                     feature_names=X_train.columns,\n",
    "#                                     filled = True))\n",
    "# display(SVG(graph.pipe(format='svg')))\n",
    "\n",
    "\n",
    "# graph = Source(export_graphviz(rf_entropy.estimators_[0], out_file=None,\n",
    "#                                     feature_names=X_train.columns,\n",
    "#                                     filled = True))\n",
    "# display(SVG(graph.pipe(format='svg')))"
   ]
  },
  {
   "cell_type": "markdown",
   "metadata": {},
   "source": [
    "### grid search"
   ]
  },
  {
   "cell_type": "code",
   "execution_count": null,
   "metadata": {},
   "outputs": [],
   "source": [
    "param = {'min_samples_split': [2, 5, 10],\n",
    "        'max_depth': [5, 10, 15, None]}"
   ]
  },
  {
   "cell_type": "markdown",
   "metadata": {},
   "source": [
    "grid search on decision tree with gini"
   ]
  },
  {
   "cell_type": "code",
   "execution_count": null,
   "metadata": {},
   "outputs": [],
   "source": [
    "gs1 = GridSearchCV(dtree_gini, param, cv=5,\n",
    "                   n_jobs=-1, iid=True,\n",
    "                   return_train_score=True)\n",
    "gs_fit1 = gs1.fit(X, y)\n",
    "pd.DataFrame(gs_fit1.cv_results_).sort_values('mean_test_score',\n",
    "                                             ascending=False)[0:5]"
   ]
  },
  {
   "cell_type": "markdown",
   "metadata": {},
   "source": [
    "grid search on decision tree with entropy"
   ]
  },
  {
   "cell_type": "code",
   "execution_count": null,
   "metadata": {},
   "outputs": [],
   "source": [
    "gs2 = GridSearchCV(dtree_entropy, param, cv=5,\n",
    "                   n_jobs=-1, iid=True,\n",
    "                   return_train_score=True)\n",
    "gs_fit2 = gs2.fit(X, y)\n",
    "pd.DataFrame(gs_fit2.cv_results_).sort_values('mean_test_score',\n",
    "                                             ascending=False)[0:5]"
   ]
  },
  {
   "cell_type": "markdown",
   "metadata": {},
   "source": [
    "grid search on random forest with gini"
   ]
  },
  {
   "cell_type": "code",
   "execution_count": null,
   "metadata": {},
   "outputs": [],
   "source": [
    "gs3 = GridSearchCV(rf_gini, param, cv=5,\n",
    "                   n_jobs=-1, iid=True,\n",
    "                   return_train_score=True)\n",
    "gs_fit3 = gs3.fit(X, y)\n",
    "pd.DataFrame(gs_fit3.cv_results_).sort_values('mean_test_score',\n",
    "                                             ascending=False)[0:5]"
   ]
  },
  {
   "cell_type": "markdown",
   "metadata": {},
   "source": [
    "grid search on random forest with entropy"
   ]
  },
  {
   "cell_type": "code",
   "execution_count": null,
   "metadata": {},
   "outputs": [],
   "source": [
    "gs4 = GridSearchCV(rf_entropy, param, cv=5,\n",
    "                   n_jobs=-1, iid=True,\n",
    "                   return_train_score=True)\n",
    "gs_fit4 = gs4.fit(X, y)\n",
    "pd.DataFrame(gs_fit4.cv_results_).sort_values('mean_test_score',\n",
    "                                             ascending=False)[0:5]"
   ]
  },
  {
   "cell_type": "markdown",
   "metadata": {},
   "source": [
    "# Test on Unknown Data"
   ]
  },
  {
   "cell_type": "code",
   "execution_count": null,
   "metadata": {},
   "outputs": [],
   "source": [
    "df3_val = pd.read_csv(\"../Dataset/Dataset3_Unknown.csv\")\n",
    "res3 = pd.DataFrame()\n"
   ]
  },
  {
   "cell_type": "code",
   "execution_count": null,
   "metadata": {},
   "outputs": [],
   "source": [
    "df3_val[\"age\"] = df3_val[\"age\"].map(lambda x: x//10)\n",
    "\n",
    "df3_val['trestbps'] = (df3_val['trestbps']-94)//17.521\n",
    "df3_val['trestbps'] = df3_val['trestbps'].astype('int8')\n",
    "\n",
    "df3_val['chol'] = (df3_val['chol']-126)//54.007\n",
    "df3_val['chol'] = df3_val['chol'].astype('int8')\n",
    "\n",
    "df3_val['thalach'] = (df3_val['thalach']-88)//22.15\n",
    "df3_val['thalach'] = df3_val['thalach'].astype('int8')\n",
    "\n",
    "df3_val['oldpeak'] = df3_val['oldpeak']*10//11.762\n",
    "df3_val['oldpeak'] = df3_val['oldpeak'].astype('int8')\n",
    "\n"
   ]
  },
  {
   "cell_type": "markdown",
   "metadata": {},
   "source": [
    "## predict with decision tree using gini"
   ]
  },
  {
   "cell_type": "code",
   "execution_count": null,
   "metadata": {},
   "outputs": [],
   "source": [
    "dtree_gini = DecisionTreeClassifier(criterion='gini',\n",
    "                                   max_depth=5,\n",
    "                                   min_samples_split=10)\n",
    "cls = dtree_gini.fit(X_train,y_train)\n",
    "y_pred = cls.predict(df3_val)\n",
    "\n",
    "res3[\"dtree_gini\"] = y_pred"
   ]
  },
  {
   "cell_type": "markdown",
   "metadata": {},
   "source": [
    "## predict with decision tree using entropy"
   ]
  },
  {
   "cell_type": "code",
   "execution_count": null,
   "metadata": {},
   "outputs": [],
   "source": [
    "dtree_entropy = DecisionTreeClassifier(criterion='entropy',\n",
    "                                   max_depth=5,\n",
    "                                   min_samples_split=10)\n",
    "cls = dtree_entropy.fit(X_train,y_train)\n",
    "y_pred = cls.predict(df3_val)\n",
    "\n",
    "res3[\"dtree_entropy\"] = y_pred"
   ]
  },
  {
   "cell_type": "markdown",
   "metadata": {},
   "source": [
    "## predict with random forest using gini"
   ]
  },
  {
   "cell_type": "code",
   "execution_count": null,
   "metadata": {},
   "outputs": [],
   "source": [
    "rf_gini = RandomForestClassifier(criterion='gini',\n",
    "                                 n_estimators=50,\n",
    "                                 max_depth=10,\n",
    "                                 min_samples_split=5)\n",
    "cls = rf_gini.fit(X_train,y_train)\n",
    "y_pred = cls.predict(df3_val)\n",
    "\n",
    "res3[\"rf_gini\"] = y_pred"
   ]
  },
  {
   "cell_type": "markdown",
   "metadata": {},
   "source": [
    "## predict with random forest using entropy"
   ]
  },
  {
   "cell_type": "code",
   "execution_count": null,
   "metadata": {},
   "outputs": [],
   "source": [
    "rf_entropy = RandomForestClassifier(criterion='entropy',\n",
    "                                 n_estimators=50,\n",
    "                                 max_depth=5,\n",
    "                                 min_samples_split=5)\n",
    "cls = rf_entropy.fit(X_train,y_train)\n",
    "y_pred = cls.predict(df3_val)\n",
    "\n",
    "res3[\"rf_entropy\"] = y_pred"
   ]
  },
  {
   "cell_type": "code",
   "execution_count": null,
   "metadata": {},
   "outputs": [],
   "source": [
    "res3.to_csv(\"./03/prediction.csv\")"
   ]
  }
 ],
 "metadata": {
  "kernelspec": {
   "display_name": "Python 3",
   "language": "python",
   "name": "python3"
  },
  "language_info": {
   "codemirror_mode": {
    "name": "ipython",
    "version": 3
   },
   "file_extension": ".py",
   "mimetype": "text/x-python",
   "name": "python",
   "nbconvert_exporter": "python",
   "pygments_lexer": "ipython3",
   "version": "3.7.3"
  }
 },
 "nbformat": 4,
 "nbformat_minor": 2
}
