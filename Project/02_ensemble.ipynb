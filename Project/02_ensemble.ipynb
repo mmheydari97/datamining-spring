{
 "cells": [
  {
   "cell_type": "markdown",
   "metadata": {},
   "source": [
    "# Modeling & Evaluation"
   ]
  },
  {
   "cell_type": "code",
   "execution_count": 1,
   "metadata": {},
   "outputs": [],
   "source": [
    "import numpy as np\n",
    "import pandas as pd\n",
    "import matplotlib.pyplot as plt\n",
    "import seaborn as sns\n",
    "import warnings\n",
    "warnings.filterwarnings('ignore')\n",
    "%matplotlib inline\n",
    "plt.style.use('ggplot')\n",
    "from sklearn.base import BaseEstimator, TransformerMixin, RegressorMixin, clone\n",
    "from sklearn.preprocessing import LabelEncoder\n",
    "from sklearn.preprocessing import RobustScaler, StandardScaler\n",
    "from sklearn.metrics import mean_squared_error\n",
    "from sklearn.pipeline import Pipeline, make_pipeline\n",
    "from scipy.stats import skew\n",
    "from sklearn.decomposition import PCA, KernelPCA\n",
    "from sklearn.preprocessing import Imputer\n",
    "from sklearn.model_selection import cross_val_score, GridSearchCV, KFold\n",
    "from sklearn.linear_model import LinearRegression\n",
    "from sklearn.linear_model import Ridge\n",
    "from sklearn.linear_model import Lasso\n",
    "from sklearn.ensemble import RandomForestRegressor, GradientBoostingRegressor, ExtraTreesRegressor\n",
    "from sklearn.svm import SVR, LinearSVR\n",
    "from sklearn.linear_model import ElasticNet, SGDRegressor, BayesianRidge\n",
    "from sklearn.kernel_ridge import KernelRidge\n",
    "from xgboost import XGBRegressor"
   ]
  },
  {
   "cell_type": "code",
   "execution_count": 2,
   "metadata": {},
   "outputs": [
    {
     "data": {
      "text/plain": [
       "((1458, 263), (1458, 1))"
      ]
     },
     "execution_count": 2,
     "metadata": {},
     "output_type": "execute_result"
    }
   ],
   "source": [
    "X_train = pd.read_csv(\"dataset/X_train.csv\", header=None)\n",
    "X_test = pd.read_csv(\"dataset/X_test.csv\", header=None)\n",
    "y_train = pd.read_csv(\"dataset/y_train.csv\", header=None)\n",
    "y_train_log = np.log(y_train)\n",
    "X_train.shape, y_train_log.shape"
   ]
  },
  {
   "cell_type": "code",
   "execution_count": 3,
   "metadata": {},
   "outputs": [],
   "source": [
    "def rmse_cv(model,X,y):\n",
    "    rmse = np.sqrt(-cross_val_score(model,\n",
    "                                    X, y, \n",
    "                                    scoring=\"neg_mean_squared_error\", \n",
    "                                    cv=5))\n",
    "    return rmse\n"
   ]
  },
  {
   "cell_type": "code",
   "execution_count": 4,
   "metadata": {},
   "outputs": [
    {
     "name": "stdout",
     "output_type": "stream",
     "text": [
      "LR: 0.128964, 0.0125\n",
      "Ridge: 0.117950, 0.0087\n",
      "Lasso: 0.120817, 0.0044\n",
      "RF: 0.156658, 0.0033\n",
      "GBR: 0.134734, 0.0056\n",
      "SVR: 0.120410, 0.0081\n",
      "LinSVR: 0.134249, 0.0184\n",
      "Ela: 0.109980, 0.0058\n",
      "SGD: 173548898142.171478, 124405681354.2683\n",
      "Bay: 0.110258, 0.0057\n",
      "Ker: 0.109920, 0.0060\n",
      "Extra: 0.146473, 0.0043\n",
      "[08:59:31] WARNING: /workspace/src/objective/regression_obj.cu:152: reg:linear is now deprecated in favor of reg:squarederror.\n",
      "[08:59:33] WARNING: /workspace/src/objective/regression_obj.cu:152: reg:linear is now deprecated in favor of reg:squarederror.\n",
      "[08:59:34] WARNING: /workspace/src/objective/regression_obj.cu:152: reg:linear is now deprecated in favor of reg:squarederror.\n",
      "[08:59:35] WARNING: /workspace/src/objective/regression_obj.cu:152: reg:linear is now deprecated in favor of reg:squarederror.\n",
      "[08:59:37] WARNING: /workspace/src/objective/regression_obj.cu:152: reg:linear is now deprecated in favor of reg:squarederror.\n",
      "Xgb: 0.136239, 0.0046\n"
     ]
    }
   ],
   "source": [
    "models = [LinearRegression(),\n",
    "          Ridge(),Lasso(alpha=0.01,max_iter=10000),\n",
    "          RandomForestRegressor(),GradientBoostingRegressor(),SVR(),\n",
    "          LinearSVR(),ElasticNet(alpha=0.001,max_iter=10000),\n",
    "          SGDRegressor(max_iter=1000,tol=1e-3),BayesianRidge(),\n",
    "          KernelRidge(alpha=0.6, kernel='polynomial', degree=2, coef0=2.5),\n",
    "          ExtraTreesRegressor(),XGBRegressor()]\n",
    "\n",
    "names = [\"LR\", \"Ridge\", \"Lasso\", \"RF\", \"GBR\", \"SVR\", \n",
    "         \"LinSVR\", \"Ela\",\"SGD\",\"Bay\",\"Ker\",\"Extra\",\"Xgb\"]\n",
    "\n",
    "for name, model in zip(names, models):\n",
    "    score = rmse_cv(model, X_train, y_train_log)\n",
    "    print(\"{}: {:.6f}, {:.4f}\".format(name,score.mean(),score.std()))"
   ]
  },
  {
   "cell_type": "code",
   "execution_count": 5,
   "metadata": {},
   "outputs": [],
   "source": [
    "class grid():\n",
    "    def __init__(self,model):\n",
    "        self.model = model\n",
    "    \n",
    "    def grid_get(self,X,y,param_grid):\n",
    "        grid_search = GridSearchCV(self.model,param_grid,cv=5,\n",
    "                                   scoring=\"neg_mean_squared_error\")\n",
    "        grid_search.fit(X,y)\n",
    "        print(grid_search.best_params_, np.sqrt(-grid_search.best_score_))\n",
    "        grid_search.cv_results_['mean_test_score'] = np.sqrt(\n",
    "            -grid_search.cv_results_['mean_test_score'])\n",
    "        print(pd.DataFrame(\n",
    "            grid_search.cv_results_)[['params',\n",
    "                                      'mean_test_score',\n",
    "                                      'std_test_score']])"
   ]
  },
  {
   "cell_type": "code",
   "execution_count": 6,
   "metadata": {},
   "outputs": [
    {
     "name": "stdout",
     "output_type": "stream",
     "text": [
      "{'alpha': 0.0005, 'max_iter': 10000} 0.11016370036657303\n",
      "                                 params  mean_test_score  std_test_score\n",
      "0  {'alpha': 0.0002, 'max_iter': 10000}         0.111465        0.001671\n",
      "1  {'alpha': 0.0004, 'max_iter': 10000}         0.110241        0.001391\n",
      "2  {'alpha': 0.0006, 'max_iter': 10000}         0.110232        0.001243\n",
      "3  {'alpha': 0.0008, 'max_iter': 10000}         0.110341        0.001128\n",
      "4  {'alpha': 0.0005, 'max_iter': 10000}         0.110164        0.001312\n",
      "5  {'alpha': 0.0007, 'max_iter': 10000}         0.110305        0.001180\n"
     ]
    }
   ],
   "source": [
    "grid(Lasso()).grid_get(X_train,y_train_log,\n",
    "                       {'alpha': [0.0002,0.0004,0.0006,\n",
    "                                  0.0008,0.0005,0.0007],\n",
    "                        'max_iter':[10000]})"
   ]
  },
  {
   "cell_type": "code",
   "execution_count": 7,
   "metadata": {},
   "outputs": [
    {
     "name": "stdout",
     "output_type": "stream",
     "text": [
      "{'alpha': 67} 0.10994676999065356\n",
      "          params  mean_test_score  std_test_score\n",
      "0  {'alpha': 62}         0.109950        0.001128\n",
      "1  {'alpha': 63}         0.109949        0.001127\n",
      "2  {'alpha': 64}         0.109948        0.001125\n",
      "3  {'alpha': 65}         0.109947        0.001123\n",
      "4  {'alpha': 66}         0.109947        0.001121\n",
      "5  {'alpha': 67}         0.109947        0.001119\n",
      "6  {'alpha': 68}         0.109947        0.001118\n"
     ]
    }
   ],
   "source": [
    "grid(Ridge()).grid_get(\n",
    "    X_train,y_train_log,{'alpha':range(62, 69)})"
   ]
  },
  {
   "cell_type": "code",
   "execution_count": 8,
   "metadata": {},
   "outputs": [
    {
     "name": "stdout",
     "output_type": "stream",
     "text": [
      "{'C': 9, 'epsilon': 0.01, 'gamma': 0.0004, 'kernel': 'rbf'} 0.10781024834469576\n",
      "                                               params  mean_test_score  \\\n",
      "0   {'C': 8, 'epsilon': 0.009, 'gamma': 0.0004, 'k...         0.107904   \n",
      "1   {'C': 8, 'epsilon': 0.009, 'gamma': 0.0005, 'k...         0.108056   \n",
      "2   {'C': 8, 'epsilon': 0.009, 'gamma': 0.0006, 'k...         0.108493   \n",
      "3   {'C': 8, 'epsilon': 0.01, 'gamma': 0.0004, 'ke...         0.107866   \n",
      "4   {'C': 8, 'epsilon': 0.01, 'gamma': 0.0005, 'ke...         0.108039   \n",
      "5   {'C': 8, 'epsilon': 0.01, 'gamma': 0.0006, 'ke...         0.108476   \n",
      "6   {'C': 9, 'epsilon': 0.009, 'gamma': 0.0004, 'k...         0.107823   \n",
      "7   {'C': 9, 'epsilon': 0.009, 'gamma': 0.0005, 'k...         0.108267   \n",
      "8   {'C': 9, 'epsilon': 0.009, 'gamma': 0.0006, 'k...         0.108765   \n",
      "9   {'C': 9, 'epsilon': 0.01, 'gamma': 0.0004, 'ke...         0.107810   \n",
      "10  {'C': 9, 'epsilon': 0.01, 'gamma': 0.0005, 'ke...         0.108220   \n",
      "11  {'C': 9, 'epsilon': 0.01, 'gamma': 0.0006, 'ke...         0.108751   \n",
      "12  {'C': 10, 'epsilon': 0.009, 'gamma': 0.0004, '...         0.107894   \n",
      "13  {'C': 10, 'epsilon': 0.009, 'gamma': 0.0005, '...         0.108448   \n",
      "14  {'C': 10, 'epsilon': 0.009, 'gamma': 0.0006, '...         0.109005   \n",
      "15  {'C': 10, 'epsilon': 0.01, 'gamma': 0.0004, 'k...         0.107861   \n",
      "16  {'C': 10, 'epsilon': 0.01, 'gamma': 0.0005, 'k...         0.108411   \n",
      "17  {'C': 10, 'epsilon': 0.01, 'gamma': 0.0006, 'k...         0.108993   \n",
      "\n",
      "    std_test_score  \n",
      "0         0.001435  \n",
      "1         0.001490  \n",
      "2         0.001576  \n",
      "3         0.001426  \n",
      "4         0.001485  \n",
      "5         0.001577  \n",
      "6         0.001445  \n",
      "7         0.001536  \n",
      "8         0.001635  \n",
      "9         0.001440  \n",
      "10        0.001534  \n",
      "11        0.001636  \n",
      "12        0.001475  \n",
      "13        0.001577  \n",
      "14        0.001685  \n",
      "15        0.001468  \n",
      "16        0.001571  \n",
      "17        0.001690  \n"
     ]
    }
   ],
   "source": [
    "grid(SVR()).grid_get(\n",
    "    X_train,y_train_log,{'C':[8, 9, 10],\n",
    "                    'kernel':[\"rbf\"],\n",
    "                    \"gamma\":[0.0004, 0.0005, 0.0006],\n",
    "                    \"epsilon\":[0.009, 0.01]})"
   ]
  },
  {
   "cell_type": "code",
   "execution_count": 9,
   "metadata": {},
   "outputs": [
    {
     "name": "stdout",
     "output_type": "stream",
     "text": [
      "{'alpha': 0.4, 'coef0': 1.2, 'degree': 3, 'kernel': 'polynomial'} 0.11451167630519105\n",
      "                                               params  mean_test_score  \\\n",
      "0   {'alpha': 0.2, 'coef0': 0.8, 'degree': 3, 'ker...         0.119414   \n",
      "1   {'alpha': 0.2, 'coef0': 1, 'degree': 3, 'kerne...         0.116243   \n",
      "2   {'alpha': 0.2, 'coef0': 1.2, 'degree': 3, 'ker...         0.115670   \n",
      "3   {'alpha': 0.3, 'coef0': 0.8, 'degree': 3, 'ker...         0.120924   \n",
      "4   {'alpha': 0.3, 'coef0': 1, 'degree': 3, 'kerne...         0.116115   \n",
      "5   {'alpha': 0.3, 'coef0': 1.2, 'degree': 3, 'ker...         0.114791   \n",
      "6   {'alpha': 0.4, 'coef0': 0.8, 'degree': 3, 'ker...         0.122820   \n",
      "7   {'alpha': 0.4, 'coef0': 1, 'degree': 3, 'kerne...         0.116526   \n",
      "8   {'alpha': 0.4, 'coef0': 1.2, 'degree': 3, 'ker...         0.114512   \n",
      "9   {'alpha': 0.5, 'coef0': 0.8, 'degree': 3, 'ker...         0.124849   \n",
      "10  {'alpha': 0.5, 'coef0': 1, 'degree': 3, 'kerne...         0.117188   \n",
      "11  {'alpha': 0.5, 'coef0': 1.2, 'degree': 3, 'ker...         0.114528   \n",
      "\n",
      "    std_test_score  \n",
      "0         0.001916  \n",
      "1         0.001755  \n",
      "2         0.001682  \n",
      "3         0.001954  \n",
      "4         0.001779  \n",
      "5         0.001703  \n",
      "6         0.001986  \n",
      "7         0.001790  \n",
      "8         0.001709  \n",
      "9         0.002017  \n",
      "10        0.001797  \n",
      "11        0.001709  \n"
     ]
    }
   ],
   "source": [
    "param_grid={'alpha':[0.2,0.3,0.4,0.5], 'kernel':[\"polynomial\"],\n",
    "            'degree':[3],'coef0':[0.8,1,1.2]}\n",
    "grid(KernelRidge()).grid_get(X_train,y_train_log,param_grid)"
   ]
  },
  {
   "cell_type": "code",
   "execution_count": 10,
   "metadata": {},
   "outputs": [
    {
     "name": "stdout",
     "output_type": "stream",
     "text": [
      "{'alpha': 0.005, 'l1_ratio': 0.08, 'max_iter': 10000} 0.11000566611944872\n",
      "                                               params  mean_test_score  \\\n",
      "0   {'alpha': 0.0008, 'l1_ratio': 0.08, 'max_iter'...         0.114363   \n",
      "1   {'alpha': 0.0008, 'l1_ratio': 0.1, 'max_iter':...         0.113723   \n",
      "2   {'alpha': 0.0008, 'l1_ratio': 0.3, 'max_iter':...         0.110754   \n",
      "3   {'alpha': 0.0008, 'l1_ratio': 0.5, 'max_iter':...         0.110195   \n",
      "4   {'alpha': 0.0008, 'l1_ratio': 0.7, 'max_iter':...         0.110171   \n",
      "5   {'alpha': 0.004, 'l1_ratio': 0.08, 'max_iter':...         0.110095   \n",
      "6   {'alpha': 0.004, 'l1_ratio': 0.1, 'max_iter': ...         0.110026   \n",
      "7   {'alpha': 0.004, 'l1_ratio': 0.3, 'max_iter': ...         0.111155   \n",
      "8   {'alpha': 0.004, 'l1_ratio': 0.5, 'max_iter': ...         0.112189   \n",
      "9   {'alpha': 0.004, 'l1_ratio': 0.7, 'max_iter': ...         0.113417   \n",
      "10  {'alpha': 0.005, 'l1_ratio': 0.08, 'max_iter':...         0.110006   \n",
      "11  {'alpha': 0.005, 'l1_ratio': 0.1, 'max_iter': ...         0.110061   \n",
      "12  {'alpha': 0.005, 'l1_ratio': 0.3, 'max_iter': ...         0.111680   \n",
      "13  {'alpha': 0.005, 'l1_ratio': 0.5, 'max_iter': ...         0.112977   \n",
      "14  {'alpha': 0.005, 'l1_ratio': 0.7, 'max_iter': ...         0.114578   \n",
      "15  {'alpha': 0.006, 'l1_ratio': 0.08, 'max_iter':...         0.110052   \n",
      "16  {'alpha': 0.006, 'l1_ratio': 0.1, 'max_iter': ...         0.110173   \n",
      "17  {'alpha': 0.006, 'l1_ratio': 0.3, 'max_iter': ...         0.112022   \n",
      "18  {'alpha': 0.006, 'l1_ratio': 0.5, 'max_iter': ...         0.113768   \n",
      "19  {'alpha': 0.006, 'l1_ratio': 0.7, 'max_iter': ...         0.115651   \n",
      "\n",
      "    std_test_score  \n",
      "0         0.001894  \n",
      "1         0.001845  \n",
      "2         0.001543  \n",
      "3         0.001378  \n",
      "4         0.001265  \n",
      "5         0.001358  \n",
      "6         0.001301  \n",
      "7         0.001010  \n",
      "8         0.000967  \n",
      "9         0.001034  \n",
      "10        0.001283  \n",
      "11        0.001228  \n",
      "12        0.000965  \n",
      "13        0.001014  \n",
      "14        0.001085  \n",
      "15        0.001223  \n",
      "16        0.001166  \n",
      "17        0.000953  \n",
      "18        0.001050  \n",
      "19        0.001163  \n"
     ]
    }
   ],
   "source": [
    "grid(ElasticNet()).grid_get(\n",
    "    X_train,y_train_log,{'alpha':[0.0008,0.004,0.005,0.006],\n",
    "                         'l1_ratio':[0.08,0.1,0.3,0.5,0.7],\n",
    "                         'max_iter':[10000]})"
   ]
  },
  {
   "cell_type": "code",
   "execution_count": 11,
   "metadata": {},
   "outputs": [],
   "source": [
    "class AverageWeight(BaseEstimator, RegressorMixin):\n",
    "    def __init__(self,mod,weight):\n",
    "        self.mod = mod\n",
    "        self.weight = weight\n",
    "        \n",
    "    def fit(self,X,y):\n",
    "        self.models_ = [clone(x) for x in self.mod]\n",
    "        for model in self.models_:\n",
    "            model.fit(X,y)\n",
    "        return self\n",
    "    \n",
    "    def predict(self,X):\n",
    "        w = list()\n",
    "        pred = np.array([model.predict(X) for model in self.models_])\n",
    "        for data in range(pred.shape[1]):\n",
    "            single = [pred[model,data]*weight for model,weight in zip(range(pred.shape[0]),self.weight)]\n",
    "            w.append(np.sum(single))\n",
    "        return w"
   ]
  },
  {
   "cell_type": "code",
   "execution_count": 12,
   "metadata": {},
   "outputs": [],
   "source": [
    "lasso = Lasso(alpha=0.0006,max_iter=10000) # 0.10987\n",
    "ridge = Ridge(alpha=66) # 0.10992\n",
    "svr = SVR(gamma= 0.0004,kernel='rbf',C=9,epsilon=0.01) # 0.10786\n",
    "ker = KernelRidge(alpha=0.4 ,kernel='polynomial',degree=3 , coef0=1.2) # 0.11423\n",
    "ela = ElasticNet(alpha=0.005,l1_ratio=0.08,max_iter=10000) # 0.10983\n",
    "bay = BayesianRidge() # 0.11020\n"
   ]
  },
  {
   "cell_type": "code",
   "execution_count": 13,
   "metadata": {},
   "outputs": [],
   "source": [
    "class stacking(BaseEstimator, RegressorMixin, TransformerMixin):\n",
    "    def __init__(self,mod,meta_model):\n",
    "        self.mod = mod\n",
    "        self.meta_model = meta_model\n",
    "        self.kf = KFold(n_splits=5, random_state=42, shuffle=True)\n",
    "        \n",
    "    def fit(self,X,y):\n",
    "        self.saved_model = [list() for i in self.mod]\n",
    "        oof_train = np.zeros((X.shape[0], len(self.mod)))\n",
    "        \n",
    "        for i,model in enumerate(self.mod):\n",
    "            for train_index, val_index in self.kf.split(X,y):\n",
    "                renew_model = clone(model)\n",
    "                renew_model.fit(X[train_index], y[train_index])\n",
    "                self.saved_model[i].append(renew_model)\n",
    "                oof_train[val_index,i] = renew_model.predict(X[val_index])\n",
    "        \n",
    "        self.meta_model.fit(oof_train,y)\n",
    "        return self\n",
    "    \n",
    "    def predict(self,X):\n",
    "        whole_test = np.column_stack([np.column_stack(model.predict(X) for model in single_model).mean(axis=1) \n",
    "                                      for single_model in self.saved_model]) \n",
    "        return self.meta_model.predict(whole_test)\n",
    "    \n",
    "    def get_oof(self,X,y,test_X):\n",
    "        oof = np.zeros((X.shape[0],len(self.mod)))\n",
    "        test_single = np.zeros((test_X.shape[0],5))\n",
    "        test_mean = np.zeros((test_X.shape[0],len(self.mod)))\n",
    "        for i,model in enumerate(self.mod):\n",
    "            for j, (train_index,val_index) in enumerate(self.kf.split(X,y)):\n",
    "                clone_model = clone(model)\n",
    "                clone_model.fit(X[train_index],y[train_index])\n",
    "                oof[val_index,i] = clone_model.predict(X[val_index])\n",
    "                test_single[:,j] = clone_model.predict(test_X)\n",
    "            test_mean[:,i] = test_single.mean(axis=1)\n",
    "        return oof, test_mean"
   ]
  },
  {
   "cell_type": "code",
   "execution_count": 14,
   "metadata": {},
   "outputs": [
    {
     "name": "stderr",
     "output_type": "stream",
     "text": [
      "/usr/local/lib/python3.6/dist-packages/sklearn/utils/deprecation.py:58: DeprecationWarning: Class Imputer is deprecated; Imputer was deprecated in version 0.20 and will be removed in 0.22. Import impute.SimpleImputer from sklearn instead.\n",
      "  warnings.warn(msg, category=DeprecationWarning)\n",
      "/usr/local/lib/python3.6/dist-packages/sklearn/utils/deprecation.py:58: DeprecationWarning: Class Imputer is deprecated; Imputer was deprecated in version 0.20 and will be removed in 0.22. Import impute.SimpleImputer from sklearn instead.\n",
      "  warnings.warn(msg, category=DeprecationWarning)\n"
     ]
    }
   ],
   "source": [
    "a = Imputer().fit_transform(X_train)\n",
    "b = Imputer().fit_transform(y_train_log.values.reshape(-1,1)).ravel()"
   ]
  },
  {
   "cell_type": "markdown",
   "metadata": {},
   "source": [
    "### Find best meta model"
   ]
  },
  {
   "cell_type": "code",
   "execution_count": 15,
   "metadata": {},
   "outputs": [
    {
     "name": "stdout",
     "output_type": "stream",
     "text": [
      "Lasso(alpha=0.0006, copy_X=True, fit_intercept=True, max_iter=10000,\n",
      "   normalize=False, positive=False, precompute=False, random_state=None,\n",
      "   selection='cyclic', tol=0.0001, warm_start=False) 0.10706868155859901\n",
      "Ridge(alpha=66, copy_X=True, fit_intercept=True, max_iter=None,\n",
      "   normalize=False, random_state=None, solver='auto', tol=0.001) 0.11035380437856634\n",
      "SVR(C=9, cache_size=200, coef0=0.0, degree=3, epsilon=0.01, gamma=0.0004,\n",
      "  kernel='rbf', max_iter=-1, shrinking=True, tol=0.001, verbose=False) 0.10850297252809478\n",
      "KernelRidge(alpha=0.4, coef0=1.2, degree=3, gamma=None, kernel='polynomial',\n",
      "      kernel_params=None) 0.10651329835819942\n",
      "ElasticNet(alpha=0.005, copy_X=True, fit_intercept=True, l1_ratio=0.08,\n",
      "      max_iter=10000, normalize=False, positive=False, precompute=False,\n",
      "      random_state=None, selection='cyclic', tol=0.0001, warm_start=False) 0.10756559036424125\n",
      "BayesianRidge(alpha_1=1e-06, alpha_2=1e-06, compute_score=False, copy_X=True,\n",
      "       fit_intercept=True, lambda_1=1e-06, lambda_2=1e-06, n_iter=300,\n",
      "       normalize=False, tol=0.001, verbose=False) 0.10697526661344263\n"
     ]
    }
   ],
   "source": [
    "metas = [lasso,ridge,svr,ker,ela,bay]\n",
    "for meta in metas:\n",
    "    stack_model = stacking(mod=[lasso,ridge,svr,ker,ela,bay],meta_model=meta)\n",
    "    print(str(meta),rmse_cv(stack_model,a,b).mean())"
   ]
  },
  {
   "cell_type": "code",
   "execution_count": 16,
   "metadata": {},
   "outputs": [],
   "source": [
    "stack_model = stacking(mod=[lasso,ridge,svr,ker,ela,bay],meta_model=ker)\n"
   ]
  },
  {
   "cell_type": "code",
   "execution_count": 17,
   "metadata": {},
   "outputs": [],
   "source": [
    "X_train_stack, X_test_stack = stack_model.get_oof(a,b,X_test)"
   ]
  },
  {
   "cell_type": "code",
   "execution_count": 18,
   "metadata": {},
   "outputs": [],
   "source": [
    "X_train_add = np.hstack((a,X_train_stack))\n",
    "X_test_add = np.hstack((X_test,X_test_stack))"
   ]
  },
  {
   "cell_type": "code",
   "execution_count": 19,
   "metadata": {},
   "outputs": [
    {
     "data": {
      "text/plain": [
       "((1458, 269), (1459, 269))"
      ]
     },
     "execution_count": 19,
     "metadata": {},
     "output_type": "execute_result"
    }
   ],
   "source": [
    "X_train_add.shape, X_test_add.shape"
   ]
  },
  {
   "cell_type": "code",
   "execution_count": 20,
   "metadata": {},
   "outputs": [
    {
     "name": "stdout",
     "output_type": "stream",
     "text": [
      "[0.09810303 0.10596942 0.11384484 0.09684264 0.10444453]\n",
      "0.10384089369493806\n"
     ]
    }
   ],
   "source": [
    "print(rmse_cv(stack_model,X_train_add,b))\n",
    "print(rmse_cv(stack_model,X_train_add,b).mean())"
   ]
  },
  {
   "cell_type": "code",
   "execution_count": 21,
   "metadata": {},
   "outputs": [],
   "source": [
    "stack_model = stacking(mod=[lasso,ridge,svr,ker,ela,bay],meta_model=ker)"
   ]
  },
  {
   "cell_type": "code",
   "execution_count": 22,
   "metadata": {},
   "outputs": [
    {
     "data": {
      "text/plain": [
       "stacking(meta_model=KernelRidge(alpha=0.4, coef0=1.2, degree=3, gamma=None, kernel='polynomial',\n",
       "      kernel_params=None),\n",
       "     mod=[Lasso(alpha=0.0006, copy_X=True, fit_intercept=True, max_iter=10000,\n",
       "   normalize=False, positive=False, precompute=False, random_state=None,\n",
       "   selection='cyclic', tol=0.0001, warm_start=False), Ridge(alpha=66, copy_X=True, fit_intercept=True, max_iter=None,\n",
       "   normalize=False, random_state=No...True, lambda_1=1e-06, lambda_2=1e-06, n_iter=300,\n",
       "       normalize=False, tol=0.001, verbose=False)])"
      ]
     },
     "execution_count": 22,
     "metadata": {},
     "output_type": "execute_result"
    }
   ],
   "source": [
    "stack_model.fit(a,b)"
   ]
  },
  {
   "cell_type": "code",
   "execution_count": 23,
   "metadata": {},
   "outputs": [],
   "source": [
    "pred = np.exp(stack_model.predict(X_test))"
   ]
  },
  {
   "cell_type": "code",
   "execution_count": 24,
   "metadata": {},
   "outputs": [],
   "source": [
    "result=pd.DataFrame({'Id':range(1461, 2920), 'SalePrice':pred})\n",
    "result.to_csv(\"dataset/submission.csv\",index=False)"
   ]
  }
 ],
 "metadata": {
  "kernelspec": {
   "display_name": "Python 3",
   "language": "python",
   "name": "python3"
  },
  "language_info": {
   "codemirror_mode": {
    "name": "ipython",
    "version": 3
   },
   "file_extension": ".py",
   "mimetype": "text/x-python",
   "name": "python",
   "nbconvert_exporter": "python",
   "pygments_lexer": "ipython3",
   "version": "3.6.8"
  }
 },
 "nbformat": 4,
 "nbformat_minor": 2
}
