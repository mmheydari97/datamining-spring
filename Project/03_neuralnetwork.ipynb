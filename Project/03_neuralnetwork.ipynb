{
 "cells": [
  {
   "cell_type": "markdown",
   "metadata": {},
   "source": [
    "# Neural network"
   ]
  },
  {
   "cell_type": "code",
   "execution_count": null,
   "metadata": {},
   "outputs": [],
   "source": [
    "import os\n",
    "import keras\n",
    "import pandas as pd\n",
    "import numpy as np\n",
    "import matplotlib.pyplot as plt\n",
    "from keras.models import Sequential\n",
    "from keras.layers import Dense, Dropout\n",
    "from sklearn.model_selection import train_test_split\n",
    "from sklearn.metrics import mean_squared_log_error\n",
    "import matplotlib\n"
   ]
  },
  {
   "cell_type": "code",
   "execution_count": null,
   "metadata": {},
   "outputs": [],
   "source": [
    "X_train = pd.read_csv(\"./dataset/X_train.csv\", header=None)\n",
    "X_test = pd.read_csv(\"./dataset/X_test.csv\", header=None)\n",
    "y_train = pd.read_csv(\"./dataset/y_train.csv\", header=None)\n",
    "\n",
    "y_train_log = np.log(y_train)"
   ]
  },
  {
   "cell_type": "code",
   "execution_count": null,
   "metadata": {},
   "outputs": [],
   "source": [
    "inp_size = X_train.shape[1]\n",
    "\n",
    "model = Sequential()\n",
    "model.add(Dense(512, input_dim=inp_size, kernel_initializer='normal',\n",
    "                activation='relu'))\n",
    "model.add(Dropout(0.3))\n",
    "model.add(Dense(256, kernel_initializer='normal', activation='relu'))\n",
    "model.add(Dense(128, kernel_initializer='normal', activation='relu'))\n",
    "model.add(Dropout(0.3))\n",
    "\n",
    "model.add(Dense(1, kernel_initializer='normal', activation='relu'))"
   ]
  },
  {
   "cell_type": "code",
   "execution_count": null,
   "metadata": {},
   "outputs": [],
   "source": [
    "model.compile(loss='mean_squared_error', \n",
    "              optimizer=keras.optimizers.Nadam())\n",
    "model.fit(X_train, y_train_log, epochs=2000, validation_split=0.1)"
   ]
  },
  {
   "cell_type": "code",
   "execution_count": null,
   "metadata": {},
   "outputs": [],
   "source": [
    "y_pred = model.predict(X_train)\n",
    "fig, ax = plt.subplots(figsize=(15,12))\n",
    "plt.style.use('ggplot')\n",
    "plt.plot(y_pred, y_train_log, 'ro')\n",
    "plt.xlabel('Prediction')\n",
    "plt.ylabel('Reality')\n",
    "ax.plot([y_train_log.min(), y_train_log.max()], \n",
    "        [y_train_log.min(), y_train_log.max()], 'k--')\n",
    "plt.show()"
   ]
  },
  {
   "cell_type": "code",
   "execution_count": null,
   "metadata": {},
   "outputs": [],
   "source": [
    "y_pred = np.exp(model.predict(X_test)[:,0])\n",
    "result=pd.DataFrame({'Id':range(1461, 2920), 'SalePrice':y_pred})\n",
    "result.to_csv(\"dataset/submission2.csv\",index=False)"
   ]
  }
 ],
 "metadata": {
  "kernelspec": {
   "display_name": "Python 3",
   "language": "python",
   "name": "python3"
  },
  "language_info": {
   "codemirror_mode": {
    "name": "ipython",
    "version": 3
   },
   "file_extension": ".py",
   "mimetype": "text/x-python",
   "name": "python",
   "nbconvert_exporter": "python",
   "pygments_lexer": "ipython3",
   "version": "3.7.3"
  }
 },
 "nbformat": 4,
 "nbformat_minor": 2
}
